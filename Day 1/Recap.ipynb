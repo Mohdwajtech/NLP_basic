{
 "cells": [
  {
   "cell_type": "code",
   "execution_count": 1,
   "id": "31a6315d-6ada-486e-aa2d-463ed903f244",
   "metadata": {},
   "outputs": [],
   "source": [
    "import re"
   ]
  },
  {
   "cell_type": "code",
   "execution_count": 23,
   "id": "a79b15e9-5689-4bf6-9acb-88eff23e1b80",
   "metadata": {},
   "outputs": [],
   "source": [
    "sentence = \"I am learning natural language processing. It has been 2 weeks since I started. It is exciting. It takes 6 weeks to learn\""
   ]
  },
  {
   "cell_type": "markdown",
   "id": "e8edc9f2-c6d6-48df-a40a-c437693007f0",
   "metadata": {},
   "source": [
    "#### Split"
   ]
  },
  {
   "cell_type": "code",
   "execution_count": 24,
   "id": "c2112d15-a960-4782-a2c5-cb00cd8bb72a",
   "metadata": {},
   "outputs": [
    {
     "name": "stdout",
     "output_type": "stream",
     "text": [
      "['I', 'am', 'learning', 'natural', 'language', 'processing.', 'It', 'has', 'been', '2', 'weeks', 'since', 'I', 'started.', 'It', 'is', 'exciting.', 'It', 'takes', '6', 'weeks', 'to', 'learn']\n"
     ]
    }
   ],
   "source": [
    "#split a sentence on whitespace\n",
    "\n",
    "print(re.split(' ', sentence))"
   ]
  },
  {
   "cell_type": "code",
   "execution_count": 25,
   "id": "ef17d257-8cd9-4277-9fbb-e1c9bf53100b",
   "metadata": {},
   "outputs": [
    {
     "name": "stdout",
     "output_type": "stream",
     "text": [
      "['I am learning natural language processing', ' It has been 2 weeks since I started', ' It is exciting', ' It takes 6 weeks to learn']\n"
     ]
    }
   ],
   "source": [
    "#split a sentence on dot - a special character in regex\n",
    "\n",
    "print(re.split('\\.', sentence))"
   ]
  },
  {
   "cell_type": "code",
   "execution_count": 26,
   "id": "5fc2b1ed-d436-47e3-a618-3bcf2ff355d1",
   "metadata": {},
   "outputs": [
    {
     "name": "stdout",
     "output_type": "stream",
     "text": [
      "['I am learning natural language processing. ', ' has been 2 weeks since I started. ', ' is exciting. ', ' takes 6 weeks to learn']\n"
     ]
    }
   ],
   "source": [
    "#split a sentence on dot - a special character in regex\n",
    "\n",
    "print(re.split('It', sentence))"
   ]
  },
  {
   "cell_type": "markdown",
   "id": "5a38bc39-86d1-40e3-8940-3883500c6d30",
   "metadata": {},
   "source": [
    "### Finditer"
   ]
  },
  {
   "cell_type": "code",
   "execution_count": 27,
   "id": "1768ddfa-aac7-428a-ac75-652532ba6661",
   "metadata": {},
   "outputs": [
    {
     "data": {
      "text/plain": [
       "<callable_iterator at 0x7f5e199e4610>"
      ]
     },
     "execution_count": 27,
     "metadata": {},
     "output_type": "execute_result"
    }
   ],
   "source": [
    "#iteratively finding the pattern\n",
    "\n",
    "finder = re.finditer('It', sentence)\n",
    "finder"
   ]
  },
  {
   "cell_type": "code",
   "execution_count": 28,
   "id": "e7a956d7-9627-4121-abc9-69bcb9ea84a8",
   "metadata": {},
   "outputs": [
    {
     "name": "stdout",
     "output_type": "stream",
     "text": [
      "<re.Match object; span=(43, 45), match='It'>\n",
      "<re.Match object; span=(80, 82), match='It'>\n",
      "<re.Match object; span=(96, 98), match='It'>\n"
     ]
    }
   ],
   "source": [
    "for word in finder:\n",
    "    print(word)"
   ]
  },
  {
   "cell_type": "code",
   "execution_count": 29,
   "id": "12f7babb-83ae-496d-8c04-b06c5f078d75",
   "metadata": {},
   "outputs": [
    {
     "data": {
      "text/plain": [
       "'It'"
      ]
     },
     "execution_count": 29,
     "metadata": {},
     "output_type": "execute_result"
    }
   ],
   "source": [
    "sentence[43:45]"
   ]
  },
  {
   "cell_type": "code",
   "execution_count": 30,
   "id": "8c197a74-2a08-47f6-922e-600d536d5e48",
   "metadata": {},
   "outputs": [
    {
     "data": {
      "text/plain": [
       "' i'"
      ]
     },
     "execution_count": 30,
     "metadata": {},
     "output_type": "execute_result"
    }
   ],
   "source": [
    "sentence[82:84]"
   ]
  },
  {
   "cell_type": "code",
   "execution_count": 35,
   "id": "6f4bdbe0-971b-41a5-860f-af3dd8fd66fd",
   "metadata": {},
   "outputs": [
    {
     "data": {
      "text/plain": [
       "'I am learning natural language processing. It has been 2 weeks since I started. It is exciting. It takes 6 weeks to learn'"
      ]
     },
     "execution_count": 35,
     "metadata": {},
     "output_type": "execute_result"
    }
   ],
   "source": [
    "sentence"
   ]
  },
  {
   "cell_type": "code",
   "execution_count": 39,
   "id": "2eabf7a5-ff43-4883-8181-651056a37b80",
   "metadata": {},
   "outputs": [],
   "source": [
    "#iteratively finding the numbers\n",
    "\n",
    "finder = re.finditer('2', sentence)"
   ]
  },
  {
   "cell_type": "code",
   "execution_count": 40,
   "id": "dfc4826f-0154-45fe-9681-1696d8ff9a5e",
   "metadata": {},
   "outputs": [
    {
     "data": {
      "text/plain": [
       "[<re.Match object; span=(55, 56), match='2'>]"
      ]
     },
     "execution_count": 40,
     "metadata": {},
     "output_type": "execute_result"
    }
   ],
   "source": [
    "list(finder)"
   ]
  },
  {
   "cell_type": "code",
   "execution_count": 41,
   "id": "69bd1ae6-9c8c-4f4c-9158-1e8ecbca23de",
   "metadata": {},
   "outputs": [
    {
     "data": {
      "text/plain": [
       "[<re.Match object; span=(105, 106), match='6'>]"
      ]
     },
     "execution_count": 41,
     "metadata": {},
     "output_type": "execute_result"
    }
   ],
   "source": [
    "#iteratively finding the numbers\n",
    "\n",
    "finder = re.finditer('6', sentence)\n",
    "list(finder)"
   ]
  },
  {
   "cell_type": "code",
   "execution_count": 43,
   "id": "434347dc-30bc-4510-b35f-8aae117b0201",
   "metadata": {},
   "outputs": [
    {
     "data": {
      "text/plain": [
       "[<re.Match object; span=(55, 56), match='2'>,\n",
       " <re.Match object; span=(105, 106), match='6'>]"
      ]
     },
     "execution_count": 43,
     "metadata": {},
     "output_type": "execute_result"
    }
   ],
   "source": [
    "#iteratively finding anything between 0 to 9\n",
    "\n",
    "finder = re.finditer('[0-9]', sentence)\n",
    "list(finder)"
   ]
  },
  {
   "cell_type": "code",
   "execution_count": 44,
   "id": "eaf0425e-7d79-40b2-ab6c-a82984855c48",
   "metadata": {},
   "outputs": [
    {
     "data": {
      "text/plain": [
       "[<re.Match object; span=(0, 1), match='I'>,\n",
       " <re.Match object; span=(43, 44), match='I'>,\n",
       " <re.Match object; span=(69, 70), match='I'>,\n",
       " <re.Match object; span=(80, 81), match='I'>,\n",
       " <re.Match object; span=(96, 97), match='I'>]"
      ]
     },
     "execution_count": 44,
     "metadata": {},
     "output_type": "execute_result"
    }
   ],
   "source": [
    "#iteratively finding anything between A to Z\n",
    "\n",
    "finder = re.finditer('[A-Z]', sentence)\n",
    "list(finder)"
   ]
  },
  {
   "cell_type": "code",
   "execution_count": 45,
   "id": "6134a632-0c0e-4f34-95b0-02cabfc7aef0",
   "metadata": {
    "collapsed": true,
    "jupyter": {
     "outputs_hidden": true
    },
    "tags": []
   },
   "outputs": [
    {
     "data": {
      "text/plain": [
       "[<re.Match object; span=(2, 3), match='a'>,\n",
       " <re.Match object; span=(3, 4), match='m'>,\n",
       " <re.Match object; span=(5, 6), match='l'>,\n",
       " <re.Match object; span=(6, 7), match='e'>,\n",
       " <re.Match object; span=(7, 8), match='a'>,\n",
       " <re.Match object; span=(8, 9), match='r'>,\n",
       " <re.Match object; span=(9, 10), match='n'>,\n",
       " <re.Match object; span=(10, 11), match='i'>,\n",
       " <re.Match object; span=(11, 12), match='n'>,\n",
       " <re.Match object; span=(12, 13), match='g'>,\n",
       " <re.Match object; span=(14, 15), match='n'>,\n",
       " <re.Match object; span=(15, 16), match='a'>,\n",
       " <re.Match object; span=(16, 17), match='t'>,\n",
       " <re.Match object; span=(17, 18), match='u'>,\n",
       " <re.Match object; span=(18, 19), match='r'>,\n",
       " <re.Match object; span=(19, 20), match='a'>,\n",
       " <re.Match object; span=(20, 21), match='l'>,\n",
       " <re.Match object; span=(22, 23), match='l'>,\n",
       " <re.Match object; span=(23, 24), match='a'>,\n",
       " <re.Match object; span=(24, 25), match='n'>,\n",
       " <re.Match object; span=(25, 26), match='g'>,\n",
       " <re.Match object; span=(26, 27), match='u'>,\n",
       " <re.Match object; span=(27, 28), match='a'>,\n",
       " <re.Match object; span=(28, 29), match='g'>,\n",
       " <re.Match object; span=(29, 30), match='e'>,\n",
       " <re.Match object; span=(31, 32), match='p'>,\n",
       " <re.Match object; span=(32, 33), match='r'>,\n",
       " <re.Match object; span=(33, 34), match='o'>,\n",
       " <re.Match object; span=(34, 35), match='c'>,\n",
       " <re.Match object; span=(35, 36), match='e'>,\n",
       " <re.Match object; span=(36, 37), match='s'>,\n",
       " <re.Match object; span=(37, 38), match='s'>,\n",
       " <re.Match object; span=(38, 39), match='i'>,\n",
       " <re.Match object; span=(39, 40), match='n'>,\n",
       " <re.Match object; span=(40, 41), match='g'>,\n",
       " <re.Match object; span=(44, 45), match='t'>,\n",
       " <re.Match object; span=(46, 47), match='h'>,\n",
       " <re.Match object; span=(47, 48), match='a'>,\n",
       " <re.Match object; span=(48, 49), match='s'>,\n",
       " <re.Match object; span=(50, 51), match='b'>,\n",
       " <re.Match object; span=(51, 52), match='e'>,\n",
       " <re.Match object; span=(52, 53), match='e'>,\n",
       " <re.Match object; span=(53, 54), match='n'>,\n",
       " <re.Match object; span=(57, 58), match='w'>,\n",
       " <re.Match object; span=(58, 59), match='e'>,\n",
       " <re.Match object; span=(59, 60), match='e'>,\n",
       " <re.Match object; span=(60, 61), match='k'>,\n",
       " <re.Match object; span=(61, 62), match='s'>,\n",
       " <re.Match object; span=(63, 64), match='s'>,\n",
       " <re.Match object; span=(64, 65), match='i'>,\n",
       " <re.Match object; span=(65, 66), match='n'>,\n",
       " <re.Match object; span=(66, 67), match='c'>,\n",
       " <re.Match object; span=(67, 68), match='e'>,\n",
       " <re.Match object; span=(71, 72), match='s'>,\n",
       " <re.Match object; span=(72, 73), match='t'>,\n",
       " <re.Match object; span=(73, 74), match='a'>,\n",
       " <re.Match object; span=(74, 75), match='r'>,\n",
       " <re.Match object; span=(75, 76), match='t'>,\n",
       " <re.Match object; span=(76, 77), match='e'>,\n",
       " <re.Match object; span=(77, 78), match='d'>,\n",
       " <re.Match object; span=(81, 82), match='t'>,\n",
       " <re.Match object; span=(83, 84), match='i'>,\n",
       " <re.Match object; span=(84, 85), match='s'>,\n",
       " <re.Match object; span=(86, 87), match='e'>,\n",
       " <re.Match object; span=(87, 88), match='x'>,\n",
       " <re.Match object; span=(88, 89), match='c'>,\n",
       " <re.Match object; span=(89, 90), match='i'>,\n",
       " <re.Match object; span=(90, 91), match='t'>,\n",
       " <re.Match object; span=(91, 92), match='i'>,\n",
       " <re.Match object; span=(92, 93), match='n'>,\n",
       " <re.Match object; span=(93, 94), match='g'>,\n",
       " <re.Match object; span=(97, 98), match='t'>,\n",
       " <re.Match object; span=(99, 100), match='t'>,\n",
       " <re.Match object; span=(100, 101), match='a'>,\n",
       " <re.Match object; span=(101, 102), match='k'>,\n",
       " <re.Match object; span=(102, 103), match='e'>,\n",
       " <re.Match object; span=(103, 104), match='s'>,\n",
       " <re.Match object; span=(107, 108), match='w'>,\n",
       " <re.Match object; span=(108, 109), match='e'>,\n",
       " <re.Match object; span=(109, 110), match='e'>,\n",
       " <re.Match object; span=(110, 111), match='k'>,\n",
       " <re.Match object; span=(111, 112), match='s'>,\n",
       " <re.Match object; span=(113, 114), match='t'>,\n",
       " <re.Match object; span=(114, 115), match='o'>,\n",
       " <re.Match object; span=(116, 117), match='l'>,\n",
       " <re.Match object; span=(117, 118), match='e'>,\n",
       " <re.Match object; span=(118, 119), match='a'>,\n",
       " <re.Match object; span=(119, 120), match='r'>,\n",
       " <re.Match object; span=(120, 121), match='n'>]"
      ]
     },
     "execution_count": 45,
     "metadata": {},
     "output_type": "execute_result"
    }
   ],
   "source": [
    "#iteratively finding anything between a to z\n",
    "\n",
    "finder = re.finditer('[a-z]', sentence)\n",
    "list(finder)"
   ]
  },
  {
   "cell_type": "code",
   "execution_count": 46,
   "id": "6751ce2a-73ae-440f-be6c-6cfd909598ff",
   "metadata": {
    "collapsed": true,
    "jupyter": {
     "outputs_hidden": true
    },
    "tags": []
   },
   "outputs": [
    {
     "data": {
      "text/plain": [
       "[<re.Match object; span=(0, 1), match='I'>,\n",
       " <re.Match object; span=(2, 3), match='a'>,\n",
       " <re.Match object; span=(3, 4), match='m'>,\n",
       " <re.Match object; span=(5, 6), match='l'>,\n",
       " <re.Match object; span=(6, 7), match='e'>,\n",
       " <re.Match object; span=(7, 8), match='a'>,\n",
       " <re.Match object; span=(8, 9), match='r'>,\n",
       " <re.Match object; span=(9, 10), match='n'>,\n",
       " <re.Match object; span=(10, 11), match='i'>,\n",
       " <re.Match object; span=(11, 12), match='n'>,\n",
       " <re.Match object; span=(12, 13), match='g'>,\n",
       " <re.Match object; span=(14, 15), match='n'>,\n",
       " <re.Match object; span=(15, 16), match='a'>,\n",
       " <re.Match object; span=(16, 17), match='t'>,\n",
       " <re.Match object; span=(17, 18), match='u'>,\n",
       " <re.Match object; span=(18, 19), match='r'>,\n",
       " <re.Match object; span=(19, 20), match='a'>,\n",
       " <re.Match object; span=(20, 21), match='l'>,\n",
       " <re.Match object; span=(22, 23), match='l'>,\n",
       " <re.Match object; span=(23, 24), match='a'>,\n",
       " <re.Match object; span=(24, 25), match='n'>,\n",
       " <re.Match object; span=(25, 26), match='g'>,\n",
       " <re.Match object; span=(26, 27), match='u'>,\n",
       " <re.Match object; span=(27, 28), match='a'>,\n",
       " <re.Match object; span=(28, 29), match='g'>,\n",
       " <re.Match object; span=(29, 30), match='e'>,\n",
       " <re.Match object; span=(31, 32), match='p'>,\n",
       " <re.Match object; span=(32, 33), match='r'>,\n",
       " <re.Match object; span=(33, 34), match='o'>,\n",
       " <re.Match object; span=(34, 35), match='c'>,\n",
       " <re.Match object; span=(35, 36), match='e'>,\n",
       " <re.Match object; span=(36, 37), match='s'>,\n",
       " <re.Match object; span=(37, 38), match='s'>,\n",
       " <re.Match object; span=(38, 39), match='i'>,\n",
       " <re.Match object; span=(39, 40), match='n'>,\n",
       " <re.Match object; span=(40, 41), match='g'>,\n",
       " <re.Match object; span=(43, 44), match='I'>,\n",
       " <re.Match object; span=(44, 45), match='t'>,\n",
       " <re.Match object; span=(46, 47), match='h'>,\n",
       " <re.Match object; span=(47, 48), match='a'>,\n",
       " <re.Match object; span=(48, 49), match='s'>,\n",
       " <re.Match object; span=(50, 51), match='b'>,\n",
       " <re.Match object; span=(51, 52), match='e'>,\n",
       " <re.Match object; span=(52, 53), match='e'>,\n",
       " <re.Match object; span=(53, 54), match='n'>,\n",
       " <re.Match object; span=(57, 58), match='w'>,\n",
       " <re.Match object; span=(58, 59), match='e'>,\n",
       " <re.Match object; span=(59, 60), match='e'>,\n",
       " <re.Match object; span=(60, 61), match='k'>,\n",
       " <re.Match object; span=(61, 62), match='s'>,\n",
       " <re.Match object; span=(63, 64), match='s'>,\n",
       " <re.Match object; span=(64, 65), match='i'>,\n",
       " <re.Match object; span=(65, 66), match='n'>,\n",
       " <re.Match object; span=(66, 67), match='c'>,\n",
       " <re.Match object; span=(67, 68), match='e'>,\n",
       " <re.Match object; span=(69, 70), match='I'>,\n",
       " <re.Match object; span=(71, 72), match='s'>,\n",
       " <re.Match object; span=(72, 73), match='t'>,\n",
       " <re.Match object; span=(73, 74), match='a'>,\n",
       " <re.Match object; span=(74, 75), match='r'>,\n",
       " <re.Match object; span=(75, 76), match='t'>,\n",
       " <re.Match object; span=(76, 77), match='e'>,\n",
       " <re.Match object; span=(77, 78), match='d'>,\n",
       " <re.Match object; span=(80, 81), match='I'>,\n",
       " <re.Match object; span=(81, 82), match='t'>,\n",
       " <re.Match object; span=(83, 84), match='i'>,\n",
       " <re.Match object; span=(84, 85), match='s'>,\n",
       " <re.Match object; span=(86, 87), match='e'>,\n",
       " <re.Match object; span=(87, 88), match='x'>,\n",
       " <re.Match object; span=(88, 89), match='c'>,\n",
       " <re.Match object; span=(89, 90), match='i'>,\n",
       " <re.Match object; span=(90, 91), match='t'>,\n",
       " <re.Match object; span=(91, 92), match='i'>,\n",
       " <re.Match object; span=(92, 93), match='n'>,\n",
       " <re.Match object; span=(93, 94), match='g'>,\n",
       " <re.Match object; span=(96, 97), match='I'>,\n",
       " <re.Match object; span=(97, 98), match='t'>,\n",
       " <re.Match object; span=(99, 100), match='t'>,\n",
       " <re.Match object; span=(100, 101), match='a'>,\n",
       " <re.Match object; span=(101, 102), match='k'>,\n",
       " <re.Match object; span=(102, 103), match='e'>,\n",
       " <re.Match object; span=(103, 104), match='s'>,\n",
       " <re.Match object; span=(107, 108), match='w'>,\n",
       " <re.Match object; span=(108, 109), match='e'>,\n",
       " <re.Match object; span=(109, 110), match='e'>,\n",
       " <re.Match object; span=(110, 111), match='k'>,\n",
       " <re.Match object; span=(111, 112), match='s'>,\n",
       " <re.Match object; span=(113, 114), match='t'>,\n",
       " <re.Match object; span=(114, 115), match='o'>,\n",
       " <re.Match object; span=(116, 117), match='l'>,\n",
       " <re.Match object; span=(117, 118), match='e'>,\n",
       " <re.Match object; span=(118, 119), match='a'>,\n",
       " <re.Match object; span=(119, 120), match='r'>,\n",
       " <re.Match object; span=(120, 121), match='n'>]"
      ]
     },
     "execution_count": 46,
     "metadata": {},
     "output_type": "execute_result"
    }
   ],
   "source": [
    "#iteratively finding anything between A to z\n",
    "\n",
    "finder = re.finditer('[A-z]', sentence)\n",
    "list(finder)"
   ]
  },
  {
   "cell_type": "code",
   "execution_count": 51,
   "id": "3f0e5d6b-2b67-4ac0-9575-91bd2f2d9b2f",
   "metadata": {},
   "outputs": [
    {
     "name": "stdout",
     "output_type": "stream",
     "text": [
      "I am learning natural language processing. It has been 2 weeks since I started. It is exciting. It takes 6 weeks to learn [<re.Match object; span=(1, 5), match=' am '>, <re.Match object; span=(42, 46), match=' It '>, <re.Match object; span=(79, 83), match=' It '>, <re.Match object; span=(95, 99), match=' It '>, <re.Match object; span=(112, 116), match=' to '>]\n"
     ]
    }
   ],
   "source": [
    "#iteratively finding any alphanumeric pattern of length two\n",
    "\n",
    "finder = re.finditer('\\s\\w{2}\\s', sentence)\n",
    "print(sentence,list(finder))"
   ]
  },
  {
   "cell_type": "code",
   "execution_count": 57,
   "id": "25d8c06e-c7a4-4054-a334-96bdb271e13b",
   "metadata": {},
   "outputs": [],
   "source": [
    "sentence1 = ['I am learning Natural Language Processing']\n",
    "sentence2  = ['I live in Gangtok']\n",
    "sentence3  = ['You may be leaving']"
   ]
  },
  {
   "cell_type": "code",
   "execution_count": 61,
   "id": "205d9e69-03ac-4ff0-8195-55f340fae24b",
   "metadata": {},
   "outputs": [
    {
     "name": "stdout",
     "output_type": "stream",
     "text": [
      "['I am learning Natural Language Processing']  starts with an I\n",
      "['I live in Gangtok']  starts with an I\n",
      "['You may be leaving']  does not start with an I\n"
     ]
    }
   ],
   "source": [
    "# I want those sentences which starts with I\n",
    "\n",
    "for sentence in [sentence1, sentence2, sentence3]:\n",
    "    if len(list(re.finditer('^I', sentence[0]))) > 0 :\n",
    "        print(sentence, \" starts with an I\")\n",
    "    else:\n",
    "        print(sentence, \" does not start with an I\")"
   ]
  },
  {
   "cell_type": "code",
   "execution_count": 62,
   "id": "de8d3c33-8ac1-4f4b-938e-0a240e29709f",
   "metadata": {},
   "outputs": [
    {
     "name": "stdout",
     "output_type": "stream",
     "text": [
      "['I am learning Natural Language Processing']  ends with a g\n",
      "['I live in Gangtok']  does not end with a g\n",
      "['You may be leaving']  ends with a g\n"
     ]
    }
   ],
   "source": [
    "# I want those sentences which ends with g\n",
    "\n",
    "for sentence in [sentence1, sentence2, sentence3]:\n",
    "    if len(list(re.finditer('g$', sentence[0]))) > 0 :\n",
    "        print(sentence, \" ends with a g\")\n",
    "    else:\n",
    "        print(sentence, \" does not end with a g\")"
   ]
  },
  {
   "cell_type": "code",
   "execution_count": 69,
   "id": "95ab6c77-4fd5-4496-b844-11025f1865e1",
   "metadata": {},
   "outputs": [],
   "source": [
    "sentence = 'In 1968, 23 people were taken into custody by police again murder of an entire family involving 5 members'"
   ]
  },
  {
   "cell_type": "code",
   "execution_count": 72,
   "id": "37c72e63-d939-4bd8-8af8-cf3a87c086ff",
   "metadata": {},
   "outputs": [
    {
     "data": {
      "text/plain": [
       "[<re.Match object; span=(3, 7), match='1968'>,\n",
       " <re.Match object; span=(9, 11), match='23'>,\n",
       " <re.Match object; span=(96, 97), match='5'>]"
      ]
     },
     "execution_count": 72,
     "metadata": {},
     "output_type": "execute_result"
    }
   ],
   "source": [
    "#find if there are one or more occurence of numbers\n",
    "list(re.finditer('\\d+', sentence))"
   ]
  },
  {
   "cell_type": "code",
   "execution_count": 73,
   "id": "44df5d78-7b31-442f-a26b-66edc7553b44",
   "metadata": {},
   "outputs": [
    {
     "data": {
      "text/plain": [
       "[<re.Match object; span=(3, 5), match='19'>,\n",
       " <re.Match object; span=(5, 7), match='68'>,\n",
       " <re.Match object; span=(9, 11), match='23'>]"
      ]
     },
     "execution_count": 73,
     "metadata": {},
     "output_type": "execute_result"
    }
   ],
   "source": [
    "#find if there are exact two occurence of numbers\n",
    "list(re.finditer('\\d{2}', sentence))"
   ]
  },
  {
   "cell_type": "code",
   "execution_count": 75,
   "id": "138ede7b-c48f-4734-9b29-f155946dbb1d",
   "metadata": {
    "collapsed": true,
    "jupyter": {
     "outputs_hidden": true
    },
    "tags": []
   },
   "outputs": [
    {
     "data": {
      "text/plain": [
       "[<re.Match object; span=(0, 0), match=''>,\n",
       " <re.Match object; span=(1, 1), match=''>,\n",
       " <re.Match object; span=(2, 2), match=''>,\n",
       " <re.Match object; span=(3, 7), match='1968'>,\n",
       " <re.Match object; span=(7, 7), match=''>,\n",
       " <re.Match object; span=(8, 8), match=''>,\n",
       " <re.Match object; span=(9, 11), match='23'>,\n",
       " <re.Match object; span=(11, 11), match=''>,\n",
       " <re.Match object; span=(12, 12), match=''>,\n",
       " <re.Match object; span=(13, 13), match=''>,\n",
       " <re.Match object; span=(14, 14), match=''>,\n",
       " <re.Match object; span=(15, 15), match=''>,\n",
       " <re.Match object; span=(16, 16), match=''>,\n",
       " <re.Match object; span=(17, 17), match=''>,\n",
       " <re.Match object; span=(18, 18), match=''>,\n",
       " <re.Match object; span=(19, 19), match=''>,\n",
       " <re.Match object; span=(20, 20), match=''>,\n",
       " <re.Match object; span=(21, 21), match=''>,\n",
       " <re.Match object; span=(22, 22), match=''>,\n",
       " <re.Match object; span=(23, 23), match=''>,\n",
       " <re.Match object; span=(24, 24), match=''>,\n",
       " <re.Match object; span=(25, 25), match=''>,\n",
       " <re.Match object; span=(26, 26), match=''>,\n",
       " <re.Match object; span=(27, 27), match=''>,\n",
       " <re.Match object; span=(28, 28), match=''>,\n",
       " <re.Match object; span=(29, 29), match=''>,\n",
       " <re.Match object; span=(30, 30), match=''>,\n",
       " <re.Match object; span=(31, 31), match=''>,\n",
       " <re.Match object; span=(32, 32), match=''>,\n",
       " <re.Match object; span=(33, 33), match=''>,\n",
       " <re.Match object; span=(34, 34), match=''>,\n",
       " <re.Match object; span=(35, 35), match=''>,\n",
       " <re.Match object; span=(36, 36), match=''>,\n",
       " <re.Match object; span=(37, 37), match=''>,\n",
       " <re.Match object; span=(38, 38), match=''>,\n",
       " <re.Match object; span=(39, 39), match=''>,\n",
       " <re.Match object; span=(40, 40), match=''>,\n",
       " <re.Match object; span=(41, 41), match=''>,\n",
       " <re.Match object; span=(42, 42), match=''>,\n",
       " <re.Match object; span=(43, 43), match=''>,\n",
       " <re.Match object; span=(44, 44), match=''>,\n",
       " <re.Match object; span=(45, 45), match=''>,\n",
       " <re.Match object; span=(46, 46), match=''>,\n",
       " <re.Match object; span=(47, 47), match=''>,\n",
       " <re.Match object; span=(48, 48), match=''>,\n",
       " <re.Match object; span=(49, 49), match=''>,\n",
       " <re.Match object; span=(50, 50), match=''>,\n",
       " <re.Match object; span=(51, 51), match=''>,\n",
       " <re.Match object; span=(52, 52), match=''>,\n",
       " <re.Match object; span=(53, 53), match=''>,\n",
       " <re.Match object; span=(54, 54), match=''>,\n",
       " <re.Match object; span=(55, 55), match=''>,\n",
       " <re.Match object; span=(56, 56), match=''>,\n",
       " <re.Match object; span=(57, 57), match=''>,\n",
       " <re.Match object; span=(58, 58), match=''>,\n",
       " <re.Match object; span=(59, 59), match=''>,\n",
       " <re.Match object; span=(60, 60), match=''>,\n",
       " <re.Match object; span=(61, 61), match=''>,\n",
       " <re.Match object; span=(62, 62), match=''>,\n",
       " <re.Match object; span=(63, 63), match=''>,\n",
       " <re.Match object; span=(64, 64), match=''>,\n",
       " <re.Match object; span=(65, 65), match=''>,\n",
       " <re.Match object; span=(66, 66), match=''>,\n",
       " <re.Match object; span=(67, 67), match=''>,\n",
       " <re.Match object; span=(68, 68), match=''>,\n",
       " <re.Match object; span=(69, 69), match=''>,\n",
       " <re.Match object; span=(70, 70), match=''>,\n",
       " <re.Match object; span=(71, 71), match=''>,\n",
       " <re.Match object; span=(72, 72), match=''>,\n",
       " <re.Match object; span=(73, 73), match=''>,\n",
       " <re.Match object; span=(74, 74), match=''>,\n",
       " <re.Match object; span=(75, 75), match=''>,\n",
       " <re.Match object; span=(76, 76), match=''>,\n",
       " <re.Match object; span=(77, 77), match=''>,\n",
       " <re.Match object; span=(78, 78), match=''>,\n",
       " <re.Match object; span=(79, 79), match=''>,\n",
       " <re.Match object; span=(80, 80), match=''>,\n",
       " <re.Match object; span=(81, 81), match=''>,\n",
       " <re.Match object; span=(82, 82), match=''>,\n",
       " <re.Match object; span=(83, 83), match=''>,\n",
       " <re.Match object; span=(84, 84), match=''>,\n",
       " <re.Match object; span=(85, 85), match=''>,\n",
       " <re.Match object; span=(86, 86), match=''>,\n",
       " <re.Match object; span=(87, 87), match=''>,\n",
       " <re.Match object; span=(88, 88), match=''>,\n",
       " <re.Match object; span=(89, 89), match=''>,\n",
       " <re.Match object; span=(90, 90), match=''>,\n",
       " <re.Match object; span=(91, 91), match=''>,\n",
       " <re.Match object; span=(92, 92), match=''>,\n",
       " <re.Match object; span=(93, 93), match=''>,\n",
       " <re.Match object; span=(94, 94), match=''>,\n",
       " <re.Match object; span=(95, 95), match=''>,\n",
       " <re.Match object; span=(96, 97), match='5'>,\n",
       " <re.Match object; span=(97, 97), match=''>,\n",
       " <re.Match object; span=(98, 98), match=''>,\n",
       " <re.Match object; span=(99, 99), match=''>,\n",
       " <re.Match object; span=(100, 100), match=''>,\n",
       " <re.Match object; span=(101, 101), match=''>,\n",
       " <re.Match object; span=(102, 102), match=''>,\n",
       " <re.Match object; span=(103, 103), match=''>,\n",
       " <re.Match object; span=(104, 104), match=''>,\n",
       " <re.Match object; span=(105, 105), match=''>]"
      ]
     },
     "execution_count": 75,
     "metadata": {},
     "output_type": "execute_result"
    }
   ],
   "source": [
    "#find if there are zero or more occurence of numbers\n",
    "list(re.finditer('\\d*', sentence))"
   ]
  },
  {
   "cell_type": "code",
   "execution_count": 80,
   "id": "8bf8a28f-a808-406c-b061-d3bd3dffa440",
   "metadata": {},
   "outputs": [
    {
     "data": {
      "text/plain": [
       "[<re.Match object; span=(3, 7), match='1968'>,\n",
       " <re.Match object; span=(9, 11), match='23'>]"
      ]
     },
     "execution_count": 80,
     "metadata": {},
     "output_type": "execute_result"
    }
   ],
   "source": [
    "#find if there are 2, 3 or 4 occurence of numbers\n",
    "list(re.finditer('\\d{2,4}', sentence))"
   ]
  },
  {
   "cell_type": "code",
   "execution_count": 84,
   "id": "ef4b8872-f175-4579-974d-c1f726cd0dfc",
   "metadata": {},
   "outputs": [
    {
     "data": {
      "text/plain": [
       "[<re.Match object; span=(0, 1), match='I'>,\n",
       " <re.Match object; span=(3, 7), match='1968'>,\n",
       " <re.Match object; span=(9, 11), match='23'>,\n",
       " <re.Match object; span=(96, 97), match='5'>]"
      ]
     },
     "execution_count": 84,
     "metadata": {},
     "output_type": "execute_result"
    }
   ],
   "source": [
    "#find if there is a capital case or one or more occurence of numbers\n",
    "list(re.finditer('[A-Z]|\\d+', sentence))"
   ]
  },
  {
   "cell_type": "raw",
   "id": "65898989-3f22-4419-bb06-23d3a5ef78da",
   "metadata": {},
   "source": [
    ".  - Any character\n",
    "\\d - Digits(0-9)\n",
    "\\D - Not a Digit\n",
    "\\w - Word character(a-z, A-Z, 0-9, _)\n",
    "\\W - not a word character\n",
    "\\s - whitespace\n",
    "\\S - not whitespace\n",
    "\n",
    "\\b - Word Boundary\n",
    "\\B - Not a word Boundary\n",
    "^ - Beginning of a string\n",
    "$ - End of a string\n",
    "\n",
    "\n",
    "* - 0 or more\n",
    "+ - 1 or more\n",
    "? - 0 or 1\n",
    "{} - Exact number\n",
    "{3,4} - Range of numbers\n",
    "\n",
    "[] - character set"
   ]
  },
  {
   "cell_type": "code",
   "execution_count": null,
   "id": "e6d2fe93-37f6-4fff-bfb4-9ee585109bc4",
   "metadata": {},
   "outputs": [],
   "source": []
  }
 ],
 "metadata": {
  "kernelspec": {
   "display_name": "Python 3 [3.10]",
   "language": "python",
   "name": "python3"
  },
  "language_info": {
   "codemirror_mode": {
    "name": "ipython",
    "version": 3
   },
   "file_extension": ".py",
   "mimetype": "text/x-python",
   "name": "python",
   "nbconvert_exporter": "python",
   "pygments_lexer": "ipython3",
   "version": "3.10.2"
  }
 },
 "nbformat": 4,
 "nbformat_minor": 5
}
