{
 "cells": [
  {
   "cell_type": "markdown",
   "metadata": {},
   "source": [
    "## Probem statement:\n",
    "\n",
    "After the success of Tap Portable Bluetooth Speaker, Amazon is about to launch a new version in the market. To understand what features customers liked, Amazon did a focus group discussion with some selected customers - the audio in the discussions has been recorded.\n",
    "The reviews that the panelists gave to Tap is what interests Amazon. \n",
    "\n",
    "As the data scientist, your task is convert the given audio file to text, assess which features of the bluetooth speaker are being talked about in the audio reviews. In Module 3, we extracted the top 15 features from the reviews. We can use this as our feature list, and assess which of these are present in the audio reviews.\n",
    "\n",
    "Also, for future utility and for immediate analysis, you need to make a process/function that captures audio from the microphone, converts to text, analyses, and returns which of the features are being discussed in the audio."
   ]
  },
  {
   "cell_type": "markdown",
   "metadata": {},
   "source": [
    "Steps - \n",
    "\n",
    "1. From speech_recognition module, import the sr utility. Instantiate the Recognizer class from the utility.\n",
    "2. Load the given audio file \"Recording2.wav\" - this contains a sample audio for you to get comfortable with the module, use the 'AudioFile' method\n",
    "3. With this as source, 'record' the audio from the file\n",
    "4. Using 'recognize_google' method, convert the audio to text\n",
    "5. Create a function to return the text for any given audio file (.wav format) as input.\n",
    "6. Apply this function to the file 'Tap Review.wav' to extract the text from the audio review from the Amazon Tap focus group discsussions\n",
    "7. Pre-process the text - tokenize into individual terms using NLTKs word_tokenize\n",
    "8. Define feature_list as list of features of the product, containing the following terms -\n",
    " - \"echo\", \"alexa\", \"music\", \"sound\", \"button\",\"bluetooth\", \"voice\", \"battery\", \"dot\", \"phone\"\n",
    "9. Identify which of the features are being talked of in the audio review\n",
    "10. Recording from mic using the Microphone method \n",
    " - instantiate\n",
    " - with the mic as source, 'listen' to the mic - you can say anything you like using your own microphone\n",
    " - speak a dummy review into the microphone, use the function from earlier to identify the product features being discussed in the audio"
   ]
  },
  {
   "cell_type": "code",
   "execution_count": null,
   "metadata": {},
   "outputs": [],
   "source": [
    "!pip install SpeechRecognition"
   ]
  },
  {
   "cell_type": "markdown",
   "metadata": {},
   "source": [
    "### 1. From speech_recognition module, import the sr utility. Instantiate the Recognizer class from the utility."
   ]
  },
  {
   "cell_type": "code",
   "execution_count": 1,
   "metadata": {},
   "outputs": [],
   "source": [
    "import speech_recognition as sr"
   ]
  },
  {
   "cell_type": "code",
   "execution_count": 2,
   "metadata": {},
   "outputs": [],
   "source": [
    "recog = sr.Recognizer()"
   ]
  },
  {
   "cell_type": "markdown",
   "metadata": {},
   "source": [
    "### 2. Load the given audio file \"Recording2.wav\" - this contains a sample audio for you to get comfortable with the module, use the 'AudioFile' method"
   ]
  },
  {
   "cell_type": "code",
   "execution_count": 3,
   "metadata": {},
   "outputs": [],
   "source": [
    "samp = sr.AudioFile(\"Recording2.wav\")"
   ]
  },
  {
   "cell_type": "markdown",
   "metadata": {},
   "source": [
    "### 3. With this as source, 'record' the audio from the file"
   ]
  },
  {
   "cell_type": "code",
   "execution_count": 4,
   "metadata": {},
   "outputs": [],
   "source": [
    "with samp as source:\n",
    "    audio = recog.record(samp)"
   ]
  },
  {
   "cell_type": "markdown",
   "metadata": {},
   "source": [
    "### 4. Using 'recognize_google' method, convert the audio to text"
   ]
  },
  {
   "cell_type": "code",
   "execution_count": 5,
   "metadata": {},
   "outputs": [],
   "source": [
    "res = recog.recognize_google(audio)"
   ]
  },
  {
   "cell_type": "code",
   "execution_count": 6,
   "metadata": {},
   "outputs": [
    {
     "data": {
      "text/plain": [
       "'I am so happy to make my first speech to text converter'"
      ]
     },
     "execution_count": 6,
     "metadata": {},
     "output_type": "execute_result"
    }
   ],
   "source": [
    "res"
   ]
  },
  {
   "cell_type": "markdown",
   "metadata": {},
   "source": [
    "### 5. Create a function to return the text for any given audio file (.wav format) as input"
   ]
  },
  {
   "cell_type": "code",
   "execution_count": 7,
   "metadata": {},
   "outputs": [],
   "source": [
    "def speech_to_text(file):\n",
    "    samp = sr.AudioFile(file)\n",
    "    \n",
    "    with samp as source:\n",
    "        audio = recog.record(samp)\n",
    "    \n",
    "    return recog.recognize_google(audio)"
   ]
  },
  {
   "cell_type": "markdown",
   "metadata": {},
   "source": [
    "### 6. Apply this function to the file 'Tap Review.wav' to extract the text from the audio review from the Amazon Tap focus group discsussions"
   ]
  },
  {
   "cell_type": "code",
   "execution_count": 9,
   "metadata": {},
   "outputs": [],
   "source": [
    "op_text =  speech_to_text(\"Tap Review.wav\")"
   ]
  },
  {
   "cell_type": "code",
   "execution_count": 10,
   "metadata": {},
   "outputs": [
    {
     "data": {
      "text/plain": [
       "'I love this little bluetooth speaker the Bluetooth connectivity is good the sound quality is amazing I listen to music all the time and I use Alexa all the time'"
      ]
     },
     "execution_count": 10,
     "metadata": {},
     "output_type": "execute_result"
    }
   ],
   "source": [
    "op_text"
   ]
  },
  {
   "cell_type": "markdown",
   "metadata": {},
   "source": [
    "### 7. Pre-process the text - tokenize into individual terms using NLTKs word_tokenize"
   ]
  },
  {
   "cell_type": "code",
   "execution_count": 11,
   "metadata": {},
   "outputs": [],
   "source": [
    "from nltk.tokenize import word_tokenize"
   ]
  },
  {
   "cell_type": "code",
   "execution_count": 12,
   "metadata": {},
   "outputs": [],
   "source": [
    "tokens = word_tokenize(op_text.lower())"
   ]
  },
  {
   "cell_type": "code",
   "execution_count": 13,
   "metadata": {},
   "outputs": [
    {
     "data": {
      "text/plain": [
       "['i',\n",
       " 'love',\n",
       " 'this',\n",
       " 'little',\n",
       " 'bluetooth',\n",
       " 'speaker',\n",
       " 'the',\n",
       " 'bluetooth',\n",
       " 'connectivity',\n",
       " 'is',\n",
       " 'good',\n",
       " 'the',\n",
       " 'sound',\n",
       " 'quality',\n",
       " 'is',\n",
       " 'amazing',\n",
       " 'i',\n",
       " 'listen',\n",
       " 'to',\n",
       " 'music',\n",
       " 'all',\n",
       " 'the',\n",
       " 'time',\n",
       " 'and',\n",
       " 'i',\n",
       " 'use',\n",
       " 'alexa',\n",
       " 'all',\n",
       " 'the',\n",
       " 'time']"
      ]
     },
     "execution_count": 13,
     "metadata": {},
     "output_type": "execute_result"
    }
   ],
   "source": [
    "tokens"
   ]
  },
  {
   "cell_type": "markdown",
   "metadata": {},
   "source": [
    "### 8. Define feature_list as list of features of the product, containing the following terms -\n",
    " - \"echo\", \"alexa\", \"music\", \"sound\", \"button\",\"bluetooth\", \"voice\", \"battery\", \"dot\", \"phone\"\n"
   ]
  },
  {
   "cell_type": "markdown",
   "metadata": {},
   "source": [
    "From an earlier exercise, we had identified the top feautures for Amazon tap. This will be our list of features.\n",
    "We need to find which of these features are being talked of in this audio review of the product."
   ]
  },
  {
   "cell_type": "code",
   "execution_count": 14,
   "metadata": {},
   "outputs": [],
   "source": [
    "feature_list = [\"echo\", \"alexa\", \"music\", \"sound\", \"button\",\"bluetooth\", \"voice\", \"battery\", \"dot\", \"phone\"]"
   ]
  },
  {
   "cell_type": "markdown",
   "metadata": {},
   "source": [
    "### 9. Identify which of the features are being talked of in the audio review "
   ]
  },
  {
   "cell_type": "code",
   "execution_count": 15,
   "metadata": {},
   "outputs": [],
   "source": [
    "review_features = [term for term in tokens if term in feature_list]"
   ]
  },
  {
   "cell_type": "code",
   "execution_count": 16,
   "metadata": {},
   "outputs": [
    {
     "data": {
      "text/plain": [
       "['bluetooth', 'bluetooth', 'sound', 'music', 'alexa']"
      ]
     },
     "execution_count": 16,
     "metadata": {},
     "output_type": "execute_result"
    }
   ],
   "source": [
    "review_features"
   ]
  },
  {
   "cell_type": "code",
   "execution_count": 17,
   "metadata": {},
   "outputs": [],
   "source": [
    "review_features = list(set(review_features))"
   ]
  },
  {
   "cell_type": "code",
   "execution_count": 18,
   "metadata": {},
   "outputs": [
    {
     "data": {
      "text/plain": [
       "['alexa', 'music', 'sound', 'bluetooth']"
      ]
     },
     "execution_count": 18,
     "metadata": {},
     "output_type": "execute_result"
    }
   ],
   "source": [
    "review_features"
   ]
  },
  {
   "cell_type": "markdown",
   "metadata": {},
   "source": [
    "10. Recording from mic using the Microphone method \n",
    " - instantiate\n",
    " - with the mic as source, 'listen' to the mic - you can say anything you like using your own microphone\n",
    " - speak a dummy review into the microphone, use the function from earlier to identify the product features being discussed in the audio"
   ]
  },
  {
   "cell_type": "code",
   "execution_count": 19,
   "metadata": {},
   "outputs": [],
   "source": [
    "mic = sr.Microphone()"
   ]
  },
  {
   "cell_type": "code",
   "execution_count": 20,
   "metadata": {},
   "outputs": [
    {
     "data": {
      "text/plain": [
       "['Microsoft Sound Mapper - Input',\n",
       " 'Microphone Array (Realtek Audio',\n",
       " 'Microsoft Sound Mapper - Output',\n",
       " 'Speakers / Headphones (Realtek ',\n",
       " 'Primary Sound Capture Driver',\n",
       " 'Microphone Array (Realtek Audio)',\n",
       " 'Primary Sound Driver',\n",
       " 'Speakers / Headphones (Realtek Audio)',\n",
       " 'Realtek ASIO',\n",
       " 'Speakers / Headphones (Realtek Audio)',\n",
       " 'Microphone Array (Realtek Audio)',\n",
       " 'Speakers (Realtek HD Audio output)',\n",
       " 'Stereo Mix (Realtek HD Audio Stereo input)',\n",
       " 'Jack Mic (Realtek HD Audio Front Mic input)',\n",
       " 'Microphone Array (Realtek HD Audio Mic Array input)',\n",
       " 'Headset (@System32\\\\drivers\\\\bthhfenum.sys,#2;%1 Hands-Free AG Audio%0\\r\\n;(AirPods))',\n",
       " 'Headset (@System32\\\\drivers\\\\bthhfenum.sys,#2;%1 Hands-Free AG Audio%0\\r\\n;(AirPods))',\n",
       " 'Headphones ()']"
      ]
     },
     "execution_count": 20,
     "metadata": {},
     "output_type": "execute_result"
    }
   ],
   "source": [
    "mic.list_microphone_names()"
   ]
  },
  {
   "cell_type": "code",
   "execution_count": 21,
   "metadata": {},
   "outputs": [],
   "source": [
    "with mic as source:\n",
    "    audio = recog.listen(source)"
   ]
  },
  {
   "cell_type": "code",
   "execution_count": 22,
   "metadata": {},
   "outputs": [
    {
     "data": {
      "text/plain": [
       "'so now it is recording it is recording the voice right and I should be able to then'"
      ]
     },
     "execution_count": 22,
     "metadata": {},
     "output_type": "execute_result"
    }
   ],
   "source": [
    "recog.recognize_google(audio)"
   ]
  },
  {
   "cell_type": "code",
   "execution_count": null,
   "metadata": {},
   "outputs": [],
   "source": [
    "def get_review_features(review_text):\n",
    "    feature_list = [\"echo\", \"alexa\", \"music\", \"sound\", \"button\",\"bluetooth\", \"voice\", \"battery\", \"dot\", \"phone\"]\n",
    "    tokens = word_tokenize(review_text.lower())\n",
    "    review_features = [term for term in tokens if term in feature_list]\n",
    "    review_features = list(set(review_features))\n",
    "    return review_features"
   ]
  },
  {
   "cell_type": "code",
   "execution_count": null,
   "metadata": {},
   "outputs": [],
   "source": [
    "res = recog.recognize_google(audio)"
   ]
  },
  {
   "cell_type": "code",
   "execution_count": null,
   "metadata": {},
   "outputs": [],
   "source": [
    "get_review_features(res)"
   ]
  }
 ],
 "metadata": {
  "kernelspec": {
   "display_name": "Python 3",
   "language": "python",
   "name": "python3"
  },
  "language_info": {
   "codemirror_mode": {
    "name": "ipython",
    "version": 3
   },
   "file_extension": ".py",
   "mimetype": "text/x-python",
   "name": "python",
   "nbconvert_exporter": "python",
   "pygments_lexer": "ipython3",
   "version": "3.9.5"
  }
 },
 "nbformat": 4,
 "nbformat_minor": 2
}
