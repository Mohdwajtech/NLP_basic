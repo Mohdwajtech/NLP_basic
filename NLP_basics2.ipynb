{
 "cells": [
  {
   "cell_type": "code",
   "execution_count": 0,
   "metadata": {
    "colab": {},
    "colab_type": "code",
    "id": "mPCd7WvxWuWp",
    "outputId": "acc8cfc9-0aa6-4260-e820-4f6618da4f98"
   },
   "outputs": [
    {
     "name": "stderr",
     "output_type": "stream",
     "text": [
      "/usr/lib/python3.5/importlib/_bootstrap.py:222: RuntimeWarning: numpy.dtype size changed, may indicate binary incompatibility. Expected 96, got 88\n",
      "  return f(*args, **kwds)\n"
     ]
    },
    {
     "name": "stdout",
     "output_type": "stream",
     "text": [
      "167597\n"
     ]
    }
   ],
   "source": [
    "###Load the Dataset\n",
    "import pandas as pd\n",
    "dataFrame = pd.read_csv(\"../Datasets/product_rating.csv\")\n",
    "\n",
    "# Convert data into array\n",
    "data = dataFrame.values\n",
    "n = dataFrame.shape[0] ## n is number of tweets\n",
    "print(n)\n",
    "#print(dataFrame)"
   ]
  },
  {
   "cell_type": "markdown",
   "metadata": {
    "colab_type": "text",
    "id": "T0BZzSk-WuXo"
   },
   "source": [
    "\n",
    "Modify the reviews such that the irrelevant words and characters are removed. To this end apply the following preprocessing.\n",
    "1. **Case** Convert the reviews to lower case.\n",
    "2. **URLs** We don't intend to follow the (short) urls and determine the content of the site, so we can eliminate all of these URLs via regular expression matching or replace with generic word URL.\n",
    "3. **Username** We can eliminate \"$@$username\" via regex matching or replace it with generic word AT\\_USER\n",
    "4. **hashtag** hash tags can give us some useful information, so replace them with the exact same word without the hash. E.g. \\#nike replaced with 'nike'.\n",
    "5. **Whitespace** Replace multiple whitespaces with a single whitespace.\n",
    "6. **Stop words** a, is, the, with etc. The full list of stop words can be found at Stop Word List. These words don't indicate any sentiment and can be removed.\n",
    "7. **Repeated letters** Sometimes people repeat letters to stress the emotion. \"aaaaawesome\" for awesome. We can look for 2 or more repetitive letters in words and replace them by 2 of the same.\n",
    "8. **Punctuation** Remove punctuation such as comma, single/double quote, question marks at the start and end of each word. E.g. beautiful!!!!!! replaced with beautiful\n",
    "9. **Non-alpha Words**  Remove all those words which don't start with an alphabet. E.g. 15th, 5.34am\n",
    "\n",
    "After preprocessing you should have obtain as shown below:\n",
    "\n"
   ]
  },
  {
   "cell_type": "code",
   "execution_count": 0,
   "metadata": {
    "colab": {},
    "colab_type": "code",
    "id": "paMtsvXAWuXr"
   },
   "outputs": [],
   "source": [
    "##Stored labels and tweets in separate arrays for train data\n",
    "reviews = data[:,1]\n",
    "labels = data[:,2]\n",
    "#print(reviews.shape, reviews[:10])\n",
    "#print(ratings.shape, ratings[:10])"
   ]
  },
  {
   "cell_type": "code",
   "execution_count": 0,
   "metadata": {
    "colab": {},
    "colab_type": "code",
    "id": "HiI15ZwkWuX-"
   },
   "outputs": [],
   "source": [
    "## Your code here\n",
    "## Preprocess the reviews\n",
    "\n",
    "## import regex\n",
    "import re\n",
    "import numpy as np\n",
    "\n",
    "PUNCTUATIONS = '\\'\"?!,.;:'\n",
    "\n",
    "#start process_review\n",
    "def processReview(review):\n",
    "    # process the reviews\n",
    "\n",
    "    #Convert to lower case\n",
    "    review = review.lower()\n",
    "    #Convert www.* or https?://* to URL\n",
    "    review = re.sub('((www\\.[^\\s]+)|(https?://[^\\s]+))','URL',review)\n",
    "    #Convert @username to AT_USER\n",
    "    review = re.sub('@[^\\s]+','AT_USER',review)\n",
    "    #Remove additional white spaces\n",
    "    review = re.sub('[\\s]+', ' ', review)\n",
    "    #Replace #word with word\n",
    "    review = re.sub(r'#([^\\s]+)', r'\\1', review)\n",
    "    #trim\n",
    "    review = review.strip('\\'\"')\n",
    "    review = review.strip('.,')\n",
    "    \n",
    "    review = review.strip(PUNCTUATIONS)\n",
    "    review = replaceTwoOrMore(review)\n",
    "    return review\n",
    "\n",
    "#start replaceTwoOrMore\n",
    "def replaceTwoOrMore(s):\n",
    "    #look for 2 or more repetitions of character and replace with the character itself\n",
    "    pattern = re.compile(r\"(.)\\1{1,}\", re.DOTALL)\n",
    "    return pattern.sub(r\"\\1\\1\", s)\n",
    "#end\n",
    "\n",
    "for i in range(100):\n",
    "    reviews[i] = processReview(reviews[i])\n",
    "\n",
    "#print(reviews[0:100])"
   ]
  },
  {
   "cell_type": "markdown",
   "metadata": {
    "colab_type": "text",
    "id": "JW02cbhcWuYQ"
   },
   "source": [
    "\n",
    "Write the code to count the number of positive and negative words in each product review? You can use [Positive_words.txt](https://drive.google.com/drive/folders/1TnJCyn4LiS6InT35skvCbbBrp37AGYc) and [Negative words.txt](https://drive.google.com/drive/folders/1TnJCyn4LiS6InT35skvCbbBrp37AGYcT}{negative\\_words.txt) which contain positive words and negative words respectively?"
   ]
  },
  {
   "cell_type": "code",
   "execution_count": 0,
   "metadata": {
    "colab": {},
    "colab_type": "code",
    "id": "hFhSBbExWuYc"
   },
   "outputs": [],
   "source": [
    "## your code here\n",
    "#start getStopWordList\n",
    "\n",
    "    \n",
    "import numpy as np\n",
    "    \n",
    "def getStopWordList(stopWordListFileName):\n",
    "    #read the stopwords file and build a list\n",
    "    stopWords = []\n",
    "    stopWords.append('AT_USER')\n",
    "    stopWords.append('URL')\n",
    "\n",
    "    for stopWord in open(stopWordListFileName, 'r'):\n",
    "        stopWords.append(stopWord)\n",
    "    return stopWords\n",
    "#end\n",
    "\n",
    "#start getfeatureVector\n",
    "def getFeatureVector(review):\n",
    "    featureVector = []\n",
    "    words = review.split()\n",
    "    PUNCTUATIONS = '\\'\"?!,.;:'    \n",
    "    for w in words:\n",
    "        # strip punctuation\n",
    "        w = w.strip(PUNCTUATIONS)\n",
    "        # check if the word starts with an alphabet\n",
    "        val = re.search(r\"^[a-zA-Z][a-zA-Z0-9]*$\", w)\n",
    " \n",
    "        #ignore if it is a stop word\n",
    "        \n",
    "        if w in stopWords or val is None:\n",
    "            continue\n",
    "        else:\n",
    "            featureVector.append(w.lower())\n",
    "    return featureVector\n",
    "\n",
    "def getwordcount(words, count):    \n",
    "    positive_count = 0\n",
    "    negative_count = 0\n",
    "    neutral_count = 0\n",
    "    \n",
    "    total = []\n",
    "    #print words\n",
    "    \n",
    "    for w in words:        \n",
    "        if w in positive_words:\n",
    "            positive_count += 1\n",
    "        elif w in negative_words:\n",
    "            negative_count += 1\n",
    "        else:\n",
    "            neutral_count += 1\n",
    "            \n",
    "    total.append(positive_count)\n",
    "    total.append(negative_count)\n",
    "    total.append(neutral_count)\n",
    "    total.append(labels[count])\n",
    "    return total\n",
    "    \n",
    "\n",
    "\n",
    "stopWords = getStopWordList('../Datasets/stopwords.txt')\n",
    "positive_words = pd.read_csv('../Datasets/positive-words.txt').values\n",
    "negative_words=  pd.read_csv('../Datasets/negative-words.txt').values\n",
    "\n",
    "#function to check missing values\n",
    "def is_nan(x):\n",
    "    return (x is np.nan or x != x)\n",
    "\n",
    "def getFeatures(reviews, n) :    \n",
    "    reviews_modified = []\n",
    "    for i in range(n):\n",
    "        if(i%1000 == 0) :\n",
    "            print(\"%6d\" %(i), end=\"\")\n",
    "        if(i%10000 == 0) :\n",
    "            print()\n",
    "        #print(reviews[i])\n",
    "        if(is_nan(reviews[i]) == False):\n",
    "            featureVector = getFeatureVector(reviews[i])\n",
    "            #print(featureVector)\n",
    "            reviews_modified.append(getwordcount(featureVector,i))\n",
    "    x = np.asarray(reviews_modified) ###Converting in to array\n",
    "    return x\n"
   ]
  },
  {
   "cell_type": "code",
   "execution_count": 0,
   "metadata": {
    "colab": {},
    "colab_type": "code",
    "id": "tag2sZFKWuYv",
    "outputId": "0b802523-c9f2-42e4-ad2d-53fdd9377cc3"
   },
   "outputs": [
    {
     "data": {
      "text/plain": [
       "True"
      ]
     },
     "execution_count": 8,
     "metadata": {
      "tags": []
     },
     "output_type": "execute_result"
    }
   ],
   "source": [
    "is_nan(reviews[2339])"
   ]
  },
  {
   "cell_type": "code",
   "execution_count": 0,
   "metadata": {
    "colab": {},
    "colab_type": "code",
    "id": "lnUVWLpPWuZO"
   },
   "outputs": [],
   "source": [
    "#Calling the function"
   ]
  },
  {
   "cell_type": "code",
   "execution_count": 0,
   "metadata": {
    "colab": {},
    "colab_type": "code",
    "id": "-WIp541tWuZg",
    "outputId": "6429da63-beb2-42ca-ae3a-c7c43233ef01"
   },
   "outputs": [
    {
     "name": "stdout",
     "output_type": "stream",
     "text": [
      "     0\n",
      "  1000  2000  3000  4000  5000  6000  7000  8000  9000 10000\n",
      " 11000 12000 13000 14000 15000 16000 17000 18000 19000 20000\n",
      " 21000 22000 23000 24000 25000 26000 27000 28000 29000 30000\n",
      " 31000 32000 33000 34000 35000 36000 37000 38000 39000 40000\n",
      " 41000 42000 43000 44000 45000 46000 47000 48000 49000 50000\n",
      " 51000 52000 53000 54000 55000 56000 57000 58000 59000 60000\n",
      " 61000 62000 63000 64000 65000 66000 67000 68000 69000 70000\n",
      " 71000 72000 73000 74000 75000 76000 77000 78000 79000 80000\n",
      " 81000 82000 83000 84000 85000 86000 87000 88000 89000 90000\n",
      " 91000 92000 93000 94000 95000 96000 97000 98000 99000100000\n",
      "101000102000103000104000105000106000107000108000109000110000\n",
      "111000112000113000114000115000116000117000118000119000120000\n",
      "121000122000123000124000125000126000127000128000129000130000\n",
      "131000132000133000134000135000136000137000138000139000140000\n",
      "141000142000143000144000145000146000147000148000149000150000\n",
      "151000152000153000154000155000156000157000158000159000160000\n",
      "161000162000163000164000165000166000167000"
     ]
    }
   ],
   "source": [
    "x = getFeatures(reviews, n)"
   ]
  },
  {
   "cell_type": "code",
   "execution_count": 0,
   "metadata": {
    "colab": {},
    "colab_type": "code",
    "id": "UE9UHtL2WuaB"
   },
   "outputs": [],
   "source": [
    "#dividing into train and test "
   ]
  },
  {
   "cell_type": "code",
   "execution_count": 0,
   "metadata": {
    "colab": {},
    "colab_type": "code",
    "id": "wG1bJhcRWuaW",
    "outputId": "53b0b6d6-8b6f-4574-97e0-b0ad1e1cc267"
   },
   "outputs": [
    {
     "name": "stdout",
     "output_type": "stream",
     "text": [
      "(167504, 4)\n",
      "(150000,)\n",
      "(17504,)\n"
     ]
    }
   ],
   "source": [
    "print (x.shape)\n",
    "\n",
    "train_X = x[:150000,:2]\n",
    "train_Y = x[:150000,3]\n",
    "test_X = x[150000:,:2]\n",
    "test_Y = x[150000:,3]\n",
    "print(train_Y.shape)\n",
    "print(test_Y.shape)"
   ]
  },
  {
   "cell_type": "markdown",
   "metadata": {
    "colab_type": "text",
    "id": "LeltXzOPWua4"
   },
   "source": [
    "\n",
    "Take the one feature as the number of positive words and other as number of negative words for each review and use them in a KNN Classifier. What is the accuracy obtained?"
   ]
  },
  {
   "cell_type": "code",
   "execution_count": 0,
   "metadata": {
    "colab": {},
    "colab_type": "code",
    "id": "RNmc7l8wWua7",
    "outputId": "5b212b7b-80de-4d9c-e96d-c347173ac870"
   },
   "outputs": [
    {
     "name": "stdout",
     "output_type": "stream",
     "text": [
      "accuracy : 0.514396709324\n",
      "precision : 0.290585512744\n",
      "recall :  0.258261106579\n"
     ]
    }
   ],
   "source": [
    "## Your code here\n",
    "from sklearn import neighbors\n",
    "def getPredictions_KNN(train_X, trainY, test_X) :\n",
    "    #using knn classifier from sklearn\n",
    "    clf = neighbors.KNeighborsClassifier()\n",
    "    clf.fit(train_X,train_Y)\n",
    "    #returning the predicted values\n",
    "    return (clf.predict(test_X))\n",
    "\n",
    "pred_label = getPredictions_KNN(train_X, train_Y, test_X)\n",
    "from sklearn.metrics import accuracy_score, precision_score, recall_score\n",
    "print('accuracy :', accuracy_score(test_Y, pred_label))\n",
    "print('precision :', precision_score(test_Y, pred_label, average='macro'))\n",
    "print('recall : ', recall_score(test_Y, pred_label, average='macro'))"
   ]
  },
  {
   "cell_type": "markdown",
   "metadata": {
    "colab_type": "text",
    "id": "_rxAqykcWubH"
   },
   "source": [
    "\n",
    "Take the one feature as the number of positive words and other as number of negative words for each review and use them in a Linear Classifier. What is the accuracy obtained?"
   ]
  },
  {
   "cell_type": "code",
   "execution_count": 0,
   "metadata": {
    "colab": {},
    "colab_type": "code",
    "id": "YI9XT2vkWubK",
    "outputId": "05e821d6-76a0-42da-cd71-16862e0b65bf"
   },
   "outputs": [
    {
     "name": "stdout",
     "output_type": "stream",
     "text": [
      "accuracy : 0.559700639854\n",
      "precision : 0.16424985018\n",
      "recall :  0.223403577809\n"
     ]
    },
    {
     "name": "stderr",
     "output_type": "stream",
     "text": [
      "/usr/local/lib/python3.5/dist-packages/sklearn/metrics/classification.py:1135: UndefinedMetricWarning: Precision is ill-defined and being set to 0.0 in labels with no predicted samples.\n",
      "  'precision', 'predicted', average, warn_for)\n"
     ]
    }
   ],
   "source": [
    "## Your code here\n",
    "## Linear classifier\n",
    "def getPredictions_LC(train_X, trainY, test_X) :\n",
    "    from sklearn import linear_model\n",
    "    clf = linear_model.SGDClassifier(max_iter=100)\n",
    "    clf.fit(train_X,train_Y)\n",
    "    return (clf.predict(test_X))\n",
    "\n",
    "pred_label = getPredictions_LC(train_X, train_Y, test_X)\n",
    "from sklearn.metrics import accuracy_score, precision_score, recall_score\n",
    "print('accuracy :', accuracy_score(test_Y, pred_label))\n",
    "print('precision :', precision_score(test_Y, pred_label, average='macro'))\n",
    "print('recall : ', recall_score(test_Y, pred_label, average='macro'))\n"
   ]
  },
  {
   "cell_type": "markdown",
   "metadata": {
    "colab_type": "text",
    "id": "sh1brZQBWubZ"
   },
   "source": [
    "\n",
    "Take the one feature as the number of positive words and other as number of negative words for each review and use them in a Naive Baeyes Classifier. What is the accuracy obtained?"
   ]
  },
  {
   "cell_type": "code",
   "execution_count": 0,
   "metadata": {
    "colab": {},
    "colab_type": "code",
    "id": "-2ktR1UkWube",
    "outputId": "c836460c-e4ed-4a42-d4df-aa621dba73d4"
   },
   "outputs": [
    {
     "name": "stdout",
     "output_type": "stream",
     "text": [
      "accuracy : 0.558900822669\n",
      "precision : 0.360400762171\n",
      "recall :  0.224716401069\n"
     ]
    }
   ],
   "source": [
    "## Your code here\n",
    "## Your code here\n",
    "## Linear classifier\n",
    "def getPredictions_NB(train_X, trainY, test_X) :\n",
    "    from sklearn import naive_bayes\n",
    "    clf = naive_bayes.GaussianNB()\n",
    "    clf.fit(train_X,train_Y)\n",
    "    return (clf.predict(test_X))\n",
    "\n",
    "pred_label = getPredictions_NB(train_X, train_Y, test_X)\n",
    "\n",
    "from sklearn.metrics import accuracy_score, precision_score, recall_score\n",
    "print('accuracy :', accuracy_score(test_Y, pred_label))\n",
    "print('precision :', precision_score(test_Y, pred_label, average='macro'))\n",
    "print('recall : ', recall_score(test_Y, pred_label, average='macro'))\n"
   ]
  },
  {
   "cell_type": "markdown",
   "metadata": {
    "colab_type": "text",
    "id": "OXeS2rEyWubw"
   },
   "source": [
    "\n",
    "Calculate precision and Recall for the product review problem using all three classifiers and plot precision-Recall curve for all?"
   ]
  },
  {
   "cell_type": "code",
   "execution_count": 0,
   "metadata": {
    "colab": {},
    "colab_type": "code",
    "id": "UmO_NRR_Wubz"
   },
   "outputs": [],
   "source": [
    "from sklearn.preprocessing import label_binarize\n",
    "x_train = x[:150000,:2]\n",
    "y_train = x[:150000,3]\n",
    "x_test = x[150000:,:2]\n",
    "y_test = x[150000:,3]\n",
    "#y_train = label_binarize(Y_train, classes=[0, 1, 2, 3, 4, 5])\n"
   ]
  },
  {
   "cell_type": "code",
   "execution_count": 0,
   "metadata": {
    "colab": {},
    "colab_type": "code",
    "id": "JNHttzCIWub7",
    "outputId": "3a661eaf-7c19-4af5-82c2-bad78c23f158"
   },
   "outputs": [
    {
     "name": "stdout",
     "output_type": "stream",
     "text": [
      "(3, 17504)\n",
      "(52512,)\n",
      "(3, 5)\n",
      "(15,)\n"
     ]
    },
    {
     "data": {
      "image/png": "[encoded data removed]",
      "text/plain": [
       "<matplotlib.figure.Figure at 0x7ff3c77b7390>"
      ]
     },
     "metadata": {
      "tags": []
     },
     "output_type": "display_data"
    }
   ],
   "source": [
    "## Your code here\n",
    "from matplotlib import pyplot as plt\n",
    "from sklearn import naive_bayes, neighbors, linear_model\n",
    "from sklearn.preprocessing import MultiLabelBinarizer\n",
    "from sklearn.multiclass import OneVsRestClassifier\n",
    "from sklearn.metrics import accuracy_score, precision_score, recall_score, precision_recall_curve, auc\n",
    "import numpy\n",
    "\n",
    "cv= {'NB' :naive_bayes.GaussianNB(), 'KNN' : neighbors.KNeighborsClassifier(), 'LC' : linear_model.SGDClassifier(max_iter=100) }\n",
    "\n",
    "y_real = []\n",
    "y_proba = []\n",
    "for i, key in enumerate(cv):\n",
    "\n",
    "    classifier = OneVsRestClassifier(cv.get(key))\n",
    "    #classifier = cv.get(key)\n",
    "    probas_ = classifier.fit(x_train, y_train).predict( x_test)\n",
    "    y = label_binarize(y_test, classes=[0, 1, 2, 3, 4, 5])\n",
    "    p = label_binarize(probas_, classes=[0, 1, 2, 3, 4, 5])\n",
    "\n",
    "    precision, recall, thresholds = precision_recall_curve(y.ravel(), p.ravel())\n",
    "    lab = 'Pre-Recall %s (area = %0.2f)' % (key, auc(recall, precision))\n",
    "    plt.plot(recall, precision, lw=1, label=lab)\n",
    "\n",
    "    y_real.append(y_test)\n",
    "    y_proba.append(probas_)\n",
    "\n",
    "\n",
    "\n",
    "y = MultiLabelBinarizer().fit_transform(y)\n",
    "\n",
    "y = numpy.concatenate(y)\n",
    "\n",
    "\n",
    "p = MultiLabelBinarizer().fit_transform(y_proba)\n",
    "p = numpy.concatenate(p)\n",
    "\n",
    "precision, recall, _ = precision_recall_curve(y, p)\n",
    "lab = 'Mean Pre-Recall (area = %0.2f)' % (auc(recall, precision))\n",
    "plt.plot(recall, precision, label=lab, lw=2, color='black') \n",
    "plt.xlim([0.02, 1.05])\n",
    "plt.ylim([0, 1.05])\n",
    "plt.grid(True)\n",
    "plt.xlabel('Recall')\n",
    "plt.ylabel('Precision')\n",
    "plt.title('Precision Recall curve')\n",
    "plt.rcParams['axes.facecolor']='white'\n",
    "plt.legend(loc=\"lower left\")\n",
    "plt.show()"
   ]
  },
  {
   "cell_type": "code",
   "execution_count": 0,
   "metadata": {
    "colab": {},
    "colab_type": "code",
    "id": "d5A2_bC6Wud6",
    "outputId": "f08f387f-39ab-4ced-cf28-6c4377215266"
   },
   "outputs": [
    {
     "name": "stdout",
     "output_type": "stream",
     "text": [
      "[0 0 0 0 1]\n"
     ]
    }
   ],
   "source": [
    "from sklearn.preprocessing import label_binarize\n",
    "from sklearn.model_selection import train_test_split\n",
    "import numpy as np\n",
    "random_state = np.random.RandomState(0)\n",
    "X = x[:,:2]\n",
    "Y1 = x[:,3]\n",
    "classes=[1, 2, 3, 4, 5]\n",
    "Y = label_binarize(Y1, classes=classes)\n",
    "n_classes = Y.shape[1]\n",
    "print(Y[0])\n",
    "# Split into training and test\n",
    "X_train, X_test, Y_train, Y_test = train_test_split(X, Y, test_size=.3,random_state=random_state)"
   ]
  },
  {
   "cell_type": "code",
   "execution_count": 0,
   "metadata": {
    "colab": {},
    "colab_type": "code",
    "id": "RZFulFIpWueW",
    "outputId": "21ad3958-74e7-469f-ec31-1443d7cf1dad"
   },
   "outputs": [
    {
     "name": "stdout",
     "output_type": "stream",
     "text": [
      "decision_funtion\n"
     ]
    }
   ],
   "source": [
    "## Your code here\n",
    "from matplotlib import pyplot as plt\n",
    "from sklearn import naive_bayes, neighbors, linear_model\n",
    "from sklearn.preprocessing import MultiLabelBinarizer\n",
    "from sklearn.multiclass import OneVsRestClassifier\n",
    "from sklearn.metrics import accuracy_score, precision_score, recall_score\n",
    "from sklearn.metrics import average_precision_score, precision_recall_curve, auc\n",
    "import numpy\n",
    "\n",
    "cv= {'NB' :naive_bayes.GaussianNB(), 'KNN' : neighbors.KNeighborsClassifier(), 'LC' : linear_model.SGDClassifier(max_iter=100) }\n",
    "\n",
    "precision = dict()\n",
    "recall = dict()\n",
    "average_precision = dict()\n",
    "\n",
    "#for i, key in enumerate(cv):\n",
    "key = 'LC'\n",
    "classifier = OneVsRestClassifier(cv.get(key))\n",
    "classifier.fit(X_train, Y_train)\n",
    "if hasattr(classifier, \"decision_function\"):\n",
    "    print('decision_funtion')\n",
    "    prob_pos = classifier.decision_function( X_test)\n",
    "else:\n",
    "    print('proba')\n",
    "    prob_pos = classifier.predict_proba(X_test)[:, 1]\n",
    "    prob_pos = (prob_pos - prob_pos.min()) / (prob_pos.max() - prob_pos.min())    \n",
    "\n",
    "for i in range(n_classes) :\n",
    "    index = key + str(i) \n",
    "    precision[index], recall[index], _ = precision_recall_curve(Y_test[:, i], prob_pos[:, i])\n",
    "    average_precision[index] = average_precision_score(Y_test[:, i], prob_pos[:, i])\n",
    "\n",
    "precision[key], recall[key], _ = precision_recall_curve(Y_test.ravel(), prob_pos.ravel())\n",
    "average_precision[key] = average_precision_score(Y_test, prob_pos)\n"
   ]
  },
  {
   "cell_type": "code",
   "execution_count": 0,
   "metadata": {
    "colab": {},
    "colab_type": "code",
    "id": "YRlMbpbHWuex",
    "outputId": "4433328f-7632-41e8-af03-cda0ea919050"
   },
   "outputs": [
    {
     "data": {
      "image/png": "[encoded data removed]",
      "text/plain": [
       "<matplotlib.figure.Figure at 0x7ff3c0425cc0>"
      ]
     },
     "metadata": {
      "tags": []
     },
     "output_type": "display_data"
    }
   ],
   "source": [
    "lines = []\n",
    "labels =[]\n",
    "from itertools import cycle\n",
    "\n",
    "plt.figure(figsize=(7, 8))\n",
    "\n",
    "colors = cycle(['navy', 'turquoise', 'darkorange', 'cornflowerblue', 'teal'])\n",
    "l, = plt.plot(recall[key], precision[key], color='black')\n",
    "lines.append(l)\n",
    "labels.append('micro-averaged precision-recall (area = {0:0.2f})'\n",
    "             ''.format(average_precision[key]))\n",
    "\n",
    "for i, color in zip(range(n_classes), colors) :\n",
    "    index = key+str(i)\n",
    "    l, = plt.plot(recall[index], precision[index], color=color, lw=2)\n",
    "    lines.append(l)\n",
    "    labels.append('precision-recall for Rating {0} (area ={0:0.2f})'\n",
    "                     ''.format(classes[i], average_precision[index]))\n",
    "\n",
    "fig = plt.gcf()\n",
    "fig.subplots_adjust(bottom=0.25)\n",
    "plt.xlim([0.0, 1.0])\n",
    "plt.ylim([0.0, 1.05])\n",
    "plt.xlabel('Recall')\n",
    "plt.ylabel('Precision')\n",
    "plt.title('Precision-Recall multi-class')\n",
    "plt.legend(lines, labels, loc=(0, -.38), prop=dict(size=14))\n",
    "plt.show()\n"
   ]
  },
  {
   "cell_type": "code",
   "execution_count": 0,
   "metadata": {
    "colab": {},
    "colab_type": "code",
    "id": "CYy6ZJCjWue8"
   },
   "outputs": [],
   "source": []
  }
 ],
 "metadata": {
  "colab": {
   "name": "CaseStudy2.ipynb",
   "provenance": [],
   "version": "0.3.2"
  },
  "kernelspec": {
   "display_name": "Python 3",
   "language": "python",
   "name": "python3"
  },
  "language_info": {
   "codemirror_mode": {
    "name": "ipython",
    "version": 3
   },
   "file_extension": ".py",
   "mimetype": "text/x-python",
   "name": "python",
   "nbconvert_exporter": "python",
   "pygments_lexer": "ipython3",
   "version": "3.6.6"
  }
 },
 "nbformat": 4,
 "nbformat_minor": 1
}
