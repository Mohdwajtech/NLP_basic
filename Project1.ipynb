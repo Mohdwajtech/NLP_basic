{
 "cells": [
  {
   "cell_type": "code",
   "execution_count": 1,
   "id": "07116712-7285-45c4-9eb0-ade126c36bfe",
   "metadata": {},
   "outputs": [],
   "source": [
    "#Importing necessary libraries\n",
    "\n",
    "import pandas as pd\n",
    "import numpy as np\n",
    "import seaborn as sns\n",
    "import matplotlib.pyplot as plt\n",
    "\n",
    "import nltk\n",
    "import gensim"
   ]
  },
  {
   "cell_type": "code",
   "execution_count": 2,
   "id": "d5d52911-7736-4eda-b79a-9850e52b4a1b",
   "metadata": {},
   "outputs": [
    {
     "data": {
      "text/html": [
       "<div>\n",
       "<style scoped>\n",
       "    .dataframe tbody tr th:only-of-type {\n",
       "        vertical-align: middle;\n",
       "    }\n",
       "\n",
       "    .dataframe tbody tr th {\n",
       "        vertical-align: top;\n",
       "    }\n",
       "\n",
       "    .dataframe thead th {\n",
       "        text-align: right;\n",
       "    }\n",
       "</style>\n",
       "<table border=\"1\" class=\"dataframe\">\n",
       "  <thead>\n",
       "    <tr style=\"text-align: right;\">\n",
       "      <th></th>\n",
       "      <th>sentiment</th>\n",
       "      <th>review</th>\n",
       "    </tr>\n",
       "  </thead>\n",
       "  <tbody>\n",
       "    <tr>\n",
       "      <th>0</th>\n",
       "      <td>1</td>\n",
       "      <td>Good but need updates and improvements</td>\n",
       "    </tr>\n",
       "    <tr>\n",
       "      <th>1</th>\n",
       "      <td>0</td>\n",
       "      <td>Worst mobile i have bought ever, Battery is dr...</td>\n",
       "    </tr>\n",
       "    <tr>\n",
       "      <th>2</th>\n",
       "      <td>1</td>\n",
       "      <td>when I will get my 10% cash back.... its alrea...</td>\n",
       "    </tr>\n",
       "    <tr>\n",
       "      <th>3</th>\n",
       "      <td>1</td>\n",
       "      <td>Good</td>\n",
       "    </tr>\n",
       "    <tr>\n",
       "      <th>4</th>\n",
       "      <td>0</td>\n",
       "      <td>The worst phone everThey have changed the last...</td>\n",
       "    </tr>\n",
       "  </tbody>\n",
       "</table>\n",
       "</div>"
      ],
      "text/plain": [
       "   sentiment                                             review\n",
       "0          1             Good but need updates and improvements\n",
       "1          0  Worst mobile i have bought ever, Battery is dr...\n",
       "2          1  when I will get my 10% cash back.... its alrea...\n",
       "3          1                                               Good\n",
       "4          0  The worst phone everThey have changed the last..."
      ]
     },
     "execution_count": 2,
     "metadata": {},
     "output_type": "execute_result"
    }
   ],
   "source": [
    "data = pd.read_csv('K8 Reviews v0.2.csv')\n",
    "data.head()"
   ]
  },
  {
   "cell_type": "code",
   "execution_count": 3,
   "id": "8ff515c6-b988-49b8-b1ed-0306f4e60ad9",
   "metadata": {},
   "outputs": [
    {
     "data": {
      "text/plain": [
       "0    7712\n",
       "1    6963\n",
       "Name: sentiment, dtype: int64"
      ]
     },
     "execution_count": 3,
     "metadata": {},
     "output_type": "execute_result"
    }
   ],
   "source": [
    "#Count the sentiment\n",
    "\n",
    "data.sentiment.value_counts()"
   ]
  },
  {
   "cell_type": "code",
   "execution_count": 5,
   "id": "76d40e31-1158-4cbe-a29b-2e60c7268825",
   "metadata": {},
   "outputs": [
    {
     "data": {
      "text/html": [
       "<div>\n",
       "<style scoped>\n",
       "    .dataframe tbody tr th:only-of-type {\n",
       "        vertical-align: middle;\n",
       "    }\n",
       "\n",
       "    .dataframe tbody tr th {\n",
       "        vertical-align: top;\n",
       "    }\n",
       "\n",
       "    .dataframe thead th {\n",
       "        text-align: right;\n",
       "    }\n",
       "</style>\n",
       "<table border=\"1\" class=\"dataframe\">\n",
       "  <thead>\n",
       "    <tr style=\"text-align: right;\">\n",
       "      <th></th>\n",
       "      <th>sentiment</th>\n",
       "      <th>review</th>\n",
       "      <th>length</th>\n",
       "    </tr>\n",
       "  </thead>\n",
       "  <tbody>\n",
       "    <tr>\n",
       "      <th>0</th>\n",
       "      <td>1</td>\n",
       "      <td>Good but need updates and improvements</td>\n",
       "      <td>38</td>\n",
       "    </tr>\n",
       "    <tr>\n",
       "      <th>1</th>\n",
       "      <td>0</td>\n",
       "      <td>Worst mobile i have bought ever, Battery is dr...</td>\n",
       "      <td>475</td>\n",
       "    </tr>\n",
       "    <tr>\n",
       "      <th>2</th>\n",
       "      <td>1</td>\n",
       "      <td>when I will get my 10% cash back.... its alrea...</td>\n",
       "      <td>61</td>\n",
       "    </tr>\n",
       "    <tr>\n",
       "      <th>3</th>\n",
       "      <td>1</td>\n",
       "      <td>Good</td>\n",
       "      <td>4</td>\n",
       "    </tr>\n",
       "    <tr>\n",
       "      <th>4</th>\n",
       "      <td>0</td>\n",
       "      <td>The worst phone everThey have changed the last...</td>\n",
       "      <td>156</td>\n",
       "    </tr>\n",
       "    <tr>\n",
       "      <th>5</th>\n",
       "      <td>0</td>\n",
       "      <td>Only I'm telling don't buyI'm totally disappoi...</td>\n",
       "      <td>87</td>\n",
       "    </tr>\n",
       "    <tr>\n",
       "      <th>6</th>\n",
       "      <td>1</td>\n",
       "      <td>Phone is awesome. But while charging, it heats...</td>\n",
       "      <td>103</td>\n",
       "    </tr>\n",
       "    <tr>\n",
       "      <th>7</th>\n",
       "      <td>0</td>\n",
       "      <td>The battery level has worn down</td>\n",
       "      <td>31</td>\n",
       "    </tr>\n",
       "    <tr>\n",
       "      <th>8</th>\n",
       "      <td>0</td>\n",
       "      <td>It's over hitting problems...and phone hanging...</td>\n",
       "      <td>177</td>\n",
       "    </tr>\n",
       "    <tr>\n",
       "      <th>9</th>\n",
       "      <td>0</td>\n",
       "      <td>A lot of glitches dont buy this thing better g...</td>\n",
       "      <td>70</td>\n",
       "    </tr>\n",
       "  </tbody>\n",
       "</table>\n",
       "</div>"
      ],
      "text/plain": [
       "   sentiment                                             review  length\n",
       "0          1             Good but need updates and improvements      38\n",
       "1          0  Worst mobile i have bought ever, Battery is dr...     475\n",
       "2          1  when I will get my 10% cash back.... its alrea...      61\n",
       "3          1                                               Good       4\n",
       "4          0  The worst phone everThey have changed the last...     156\n",
       "5          0  Only I'm telling don't buyI'm totally disappoi...      87\n",
       "6          1  Phone is awesome. But while charging, it heats...     103\n",
       "7          0                    The battery level has worn down      31\n",
       "8          0  It's over hitting problems...and phone hanging...     177\n",
       "9          0  A lot of glitches dont buy this thing better g...      70"
      ]
     },
     "execution_count": 5,
     "metadata": {},
     "output_type": "execute_result"
    }
   ],
   "source": [
    "data['length'] = data.review.apply(len)\n",
    "data.head(10)"
   ]
  },
  {
   "cell_type": "code",
   "execution_count": 6,
   "id": "1d1c4eee-23e7-4c63-a35a-10d4db5e0eab",
   "metadata": {},
   "outputs": [
    {
     "data": {
      "text/html": [
       "<div>\n",
       "<style scoped>\n",
       "    .dataframe tbody tr th:only-of-type {\n",
       "        vertical-align: middle;\n",
       "    }\n",
       "\n",
       "    .dataframe tbody tr th {\n",
       "        vertical-align: top;\n",
       "    }\n",
       "\n",
       "    .dataframe thead th {\n",
       "        text-align: right;\n",
       "    }\n",
       "</style>\n",
       "<table border=\"1\" class=\"dataframe\">\n",
       "  <thead>\n",
       "    <tr style=\"text-align: right;\">\n",
       "      <th></th>\n",
       "      <th>sentiment</th>\n",
       "      <th>length</th>\n",
       "    </tr>\n",
       "  </thead>\n",
       "  <tbody>\n",
       "    <tr>\n",
       "      <th>count</th>\n",
       "      <td>14675.000000</td>\n",
       "      <td>14675.000000</td>\n",
       "    </tr>\n",
       "    <tr>\n",
       "      <th>mean</th>\n",
       "      <td>0.474480</td>\n",
       "      <td>113.124225</td>\n",
       "    </tr>\n",
       "    <tr>\n",
       "      <th>std</th>\n",
       "      <td>0.499365</td>\n",
       "      <td>179.325105</td>\n",
       "    </tr>\n",
       "    <tr>\n",
       "      <th>min</th>\n",
       "      <td>0.000000</td>\n",
       "      <td>1.000000</td>\n",
       "    </tr>\n",
       "    <tr>\n",
       "      <th>25%</th>\n",
       "      <td>0.000000</td>\n",
       "      <td>23.000000</td>\n",
       "    </tr>\n",
       "    <tr>\n",
       "      <th>50%</th>\n",
       "      <td>0.000000</td>\n",
       "      <td>58.000000</td>\n",
       "    </tr>\n",
       "    <tr>\n",
       "      <th>75%</th>\n",
       "      <td>1.000000</td>\n",
       "      <td>136.000000</td>\n",
       "    </tr>\n",
       "    <tr>\n",
       "      <th>max</th>\n",
       "      <td>1.000000</td>\n",
       "      <td>3810.000000</td>\n",
       "    </tr>\n",
       "  </tbody>\n",
       "</table>\n",
       "</div>"
      ],
      "text/plain": [
       "          sentiment        length\n",
       "count  14675.000000  14675.000000\n",
       "mean       0.474480    113.124225\n",
       "std        0.499365    179.325105\n",
       "min        0.000000      1.000000\n",
       "25%        0.000000     23.000000\n",
       "50%        0.000000     58.000000\n",
       "75%        1.000000    136.000000\n",
       "max        1.000000   3810.000000"
      ]
     },
     "execution_count": 6,
     "metadata": {},
     "output_type": "execute_result"
    }
   ],
   "source": [
    "data.describe()"
   ]
  },
  {
   "cell_type": "code",
   "execution_count": 9,
   "id": "0ad48a69-4073-4626-8402-20d2b378389c",
   "metadata": {},
   "outputs": [
    {
     "data": {
      "text/html": [
       "<div>\n",
       "<style scoped>\n",
       "    .dataframe tbody tr th:only-of-type {\n",
       "        vertical-align: middle;\n",
       "    }\n",
       "\n",
       "    .dataframe tbody tr th {\n",
       "        vertical-align: top;\n",
       "    }\n",
       "\n",
       "    .dataframe thead th {\n",
       "        text-align: right;\n",
       "    }\n",
       "</style>\n",
       "<table border=\"1\" class=\"dataframe\">\n",
       "  <thead>\n",
       "    <tr style=\"text-align: right;\">\n",
       "      <th></th>\n",
       "      <th>sentiment</th>\n",
       "      <th>review</th>\n",
       "      <th>length</th>\n",
       "    </tr>\n",
       "  </thead>\n",
       "  <tbody>\n",
       "    <tr>\n",
       "      <th>75</th>\n",
       "      <td>0</td>\n",
       "      <td>Firstly product not delivered on time dissatis...</td>\n",
       "      <td>772</td>\n",
       "    </tr>\n",
       "    <tr>\n",
       "      <th>157</th>\n",
       "      <td>0</td>\n",
       "      <td>Worst depth effect honestly if you want to buy...</td>\n",
       "      <td>924</td>\n",
       "    </tr>\n",
       "    <tr>\n",
       "      <th>224</th>\n",
       "      <td>0</td>\n",
       "      <td>most disgusting phone ever. Heating issues, ba...</td>\n",
       "      <td>546</td>\n",
       "    </tr>\n",
       "    <tr>\n",
       "      <th>249</th>\n",
       "      <td>0</td>\n",
       "      <td>I am a movie lover. Wanted to watch them on my...</td>\n",
       "      <td>661</td>\n",
       "    </tr>\n",
       "    <tr>\n",
       "      <th>297</th>\n",
       "      <td>0</td>\n",
       "      <td>I had purchased on 08/10/2017 after using more...</td>\n",
       "      <td>876</td>\n",
       "    </tr>\n",
       "    <tr>\n",
       "      <th>...</th>\n",
       "      <td>...</td>\n",
       "      <td>...</td>\n",
       "      <td>...</td>\n",
       "    </tr>\n",
       "    <tr>\n",
       "      <th>14363</th>\n",
       "      <td>0</td>\n",
       "      <td>I got the mobile is good condition and has bee...</td>\n",
       "      <td>559</td>\n",
       "    </tr>\n",
       "    <tr>\n",
       "      <th>14396</th>\n",
       "      <td>0</td>\n",
       "      <td>Bad phone... Very bad.. i would not recommend ...</td>\n",
       "      <td>514</td>\n",
       "    </tr>\n",
       "    <tr>\n",
       "      <th>14453</th>\n",
       "      <td>0</td>\n",
       "      <td>Much better phones for this price range are av...</td>\n",
       "      <td>651</td>\n",
       "    </tr>\n",
       "    <tr>\n",
       "      <th>14584</th>\n",
       "      <td>1</td>\n",
       "      <td>*4.5 stars*I received this phone on 22/03/2018...</td>\n",
       "      <td>1189</td>\n",
       "    </tr>\n",
       "    <tr>\n",
       "      <th>14647</th>\n",
       "      <td>0</td>\n",
       "      <td>K8 note not getting Oreo update I checked in s...</td>\n",
       "      <td>541</td>\n",
       "    </tr>\n",
       "  </tbody>\n",
       "</table>\n",
       "<p>433 rows × 3 columns</p>\n",
       "</div>"
      ],
      "text/plain": [
       "       sentiment                                             review  length\n",
       "75             0  Firstly product not delivered on time dissatis...     772\n",
       "157            0  Worst depth effect honestly if you want to buy...     924\n",
       "224            0  most disgusting phone ever. Heating issues, ba...     546\n",
       "249            0  I am a movie lover. Wanted to watch them on my...     661\n",
       "297            0  I had purchased on 08/10/2017 after using more...     876\n",
       "...          ...                                                ...     ...\n",
       "14363          0  I got the mobile is good condition and has bee...     559\n",
       "14396          0  Bad phone... Very bad.. i would not recommend ...     514\n",
       "14453          0  Much better phones for this price range are av...     651\n",
       "14584          1  *4.5 stars*I received this phone on 22/03/2018...    1189\n",
       "14647          0  K8 note not getting Oreo update I checked in s...     541\n",
       "\n",
       "[433 rows x 3 columns]"
      ]
     },
     "execution_count": 9,
     "metadata": {},
     "output_type": "execute_result"
    }
   ],
   "source": [
    "#Let us filter data with smaller length\n",
    "data[data.length>500]"
   ]
  },
  {
   "cell_type": "code",
   "execution_count": 10,
   "id": "0ae57a5b-fa24-4afd-80fd-b052c822af15",
   "metadata": {},
   "outputs": [
    {
     "data": {
      "text/plain": [
       "sentiment\n",
       "0    406\n",
       "1     27\n",
       "Name: review, dtype: int64"
      ]
     },
     "execution_count": 10,
     "metadata": {},
     "output_type": "execute_result"
    }
   ],
   "source": [
    "#Let us perform more EDA on the chosen number\n",
    "\n",
    "data[data.length>500].groupby('sentiment').review.count()"
   ]
  },
  {
   "cell_type": "code",
   "execution_count": 16,
   "id": "011f1d06-090f-4f78-bdc1-ccbb66b20c4d",
   "metadata": {},
   "outputs": [
    {
     "data": {
      "text/plain": [
       "<AxesSubplot: ylabel='review'>"
      ]
     },
     "execution_count": 16,
     "metadata": {},
     "output_type": "execute_result"
    },
    {
     "data": {
      "image/png": "[encoded data removed]",
      "text/plain": [
       "<Figure size 432x288 with 1 Axes>"
      ]
     },
     "metadata": {},
     "output_type": "display_data"
    }
   ],
   "source": [
    "#Plot a pie chart\n",
    "data[data.length>50].groupby('sentiment').review.count().plot(kind='pie')"
   ]
  },
  {
   "cell_type": "code",
   "execution_count": 19,
   "id": "1ff99416-d738-44ce-8598-85ae628752b8",
   "metadata": {},
   "outputs": [],
   "source": [
    "data = data[data.length>50]"
   ]
  },
  {
   "cell_type": "markdown",
   "id": "e4a1e9d9-8a05-4f52-9bd8-aa200aeb5d5c",
   "metadata": {},
   "source": [
    "TASK : Choose the best number such that you do not add a lot of noise(reviews with less number of characters) and \n",
    "       it should not be inmbalanced"
   ]
  },
  {
   "cell_type": "code",
   "execution_count": 20,
   "id": "daca9f79-2e7e-41d5-a40c-5730fa82083a",
   "metadata": {},
   "outputs": [
    {
     "data": {
      "text/plain": [
       "[\"worst mobile i have bought ever, battery is draining like hell, backup is only 6 to 7 hours with internet uses, even if i put mobile idle its getting discharged.this is biggest lie from amazon & lenove which is not at all expected, they are making full by saying that battery is 4000mah & booster charger is fake, it takes at least 4 to 5 hours to be fully charged.don't know how lenovo will survive by making full of us.please don;t go for this else you will regret like me.\",\n",
       " 'when i will get my 10% cash back.... its already 15 january..',\n",
       " 'the worst phone everthey have changed the last phone but the problem is still same and the amazon is not returning the phone .highly disappointing of amazon',\n",
       " \"only i'm telling don't buyi'm totally disappointedpoor batterypoor camerawaste of money\",\n",
       " 'phone is awesome. but while charging, it heats up allot..really a genuine reason to hate lenovo k8 note']"
      ]
     },
     "execution_count": 20,
     "metadata": {},
     "output_type": "execute_result"
    }
   ],
   "source": [
    "#Cleaning the data\n",
    "\n",
    "#Normalize the case\n",
    "\n",
    "normalized_data = [review.lower() for review in data.review]\n",
    "normalized_data[:5]"
   ]
  },
  {
   "cell_type": "code",
   "execution_count": 21,
   "id": "dff637a7-0284-46fd-bd31-e77ed31530c2",
   "metadata": {},
   "outputs": [
    {
     "data": {
      "text/plain": [
       "7955"
      ]
     },
     "execution_count": 21,
     "metadata": {},
     "output_type": "execute_result"
    }
   ],
   "source": [
    "len(normalized_data)"
   ]
  },
  {
   "cell_type": "code",
   "execution_count": 23,
   "id": "10ee029d-b02d-419f-bc88-ecd0aa681346",
   "metadata": {},
   "outputs": [
    {
     "name": "stdout",
     "output_type": "stream",
     "text": [
      "[['worst', 'mobile', 'i', 'have', 'bought', 'ever', ',', 'battery', 'is', 'draining', 'like', 'hell', ',', 'backup', 'is', 'only', '6', 'to', '7', 'hours', 'with', 'internet', 'uses', ',', 'even', 'if', 'i', 'put', 'mobile', 'idle', 'its', 'getting', 'discharged.this', 'is', 'biggest', 'lie', 'from', 'amazon', '&', 'lenove', 'which', 'is', 'not', 'at', 'all', 'expected', ',', 'they', 'are', 'making', 'full', 'by', 'saying', 'that', 'battery', 'is', '4000mah', '&', 'booster', 'charger', 'is', 'fake', ',', 'it', 'takes', 'at', 'least', '4', 'to', '5', 'hours', 'to', 'be', 'fully', 'charged.do', \"n't\", 'know', 'how', 'lenovo', 'will', 'survive', 'by', 'making', 'full', 'of', 'us.please', 'don', ';', 't', 'go', 'for', 'this', 'else', 'you', 'will', 'regret', 'like', 'me', '.'], ['when', 'i', 'will', 'get', 'my', '10', '%', 'cash', 'back', '....', 'its', 'already', '15', 'january', '..'], ['the', 'worst', 'phone', 'everthey', 'have', 'changed', 'the', 'last', 'phone', 'but', 'the', 'problem', 'is', 'still', 'same', 'and', 'the', 'amazon', 'is', 'not', 'returning', 'the', 'phone', '.highly', 'disappointing', 'of', 'amazon'], ['only', 'i', \"'m\", 'telling', 'do', \"n't\", 'buyi', \"'m\", 'totally', 'disappointedpoor', 'batterypoor', 'camerawaste', 'of', 'money'], ['phone', 'is', 'awesome', '.', 'but', 'while', 'charging', ',', 'it', 'heats', 'up', 'allot', '..', 'really', 'a', 'genuine', 'reason', 'to', 'hate', 'lenovo', 'k8', 'note']]\n"
     ]
    }
   ],
   "source": [
    "#Tokenize\n",
    "\n",
    "tokenized_data = [nltk.word_tokenize(review) for review in normalized_data]\n",
    "print(tokenized_data[:5])"
   ]
  },
  {
   "cell_type": "code",
   "execution_count": 24,
   "id": "4ae7e8b3-7f31-47bb-884c-d602c8eca7bd",
   "metadata": {},
   "outputs": [
    {
     "name": "stdout",
     "output_type": "stream",
     "text": [
      "[[('worst', 'JJS'), ('mobile', 'NN'), ('i', 'NN'), ('have', 'VBP'), ('bought', 'VBN'), ('ever', 'RB'), (',', ','), ('battery', 'NN'), ('is', 'VBZ'), ('draining', 'VBG'), ('like', 'IN'), ('hell', 'NN'), (',', ','), ('backup', 'NN'), ('is', 'VBZ'), ('only', 'RB'), ('6', 'CD'), ('to', 'TO'), ('7', 'CD'), ('hours', 'NNS'), ('with', 'IN'), ('internet', 'JJ'), ('uses', 'NNS'), (',', ','), ('even', 'RB'), ('if', 'IN'), ('i', 'JJ'), ('put', 'VBP'), ('mobile', 'JJ'), ('idle', 'NN'), ('its', 'PRP$'), ('getting', 'VBG'), ('discharged.this', 'NN'), ('is', 'VBZ'), ('biggest', 'JJS'), ('lie', 'NN'), ('from', 'IN'), ('amazon', 'NN'), ('&', 'CC'), ('lenove', 'NN'), ('which', 'WDT'), ('is', 'VBZ'), ('not', 'RB'), ('at', 'IN'), ('all', 'DT'), ('expected', 'VBN'), (',', ','), ('they', 'PRP'), ('are', 'VBP'), ('making', 'VBG'), ('full', 'JJ'), ('by', 'IN'), ('saying', 'VBG'), ('that', 'DT'), ('battery', 'NN'), ('is', 'VBZ'), ('4000mah', 'CD'), ('&', 'CC'), ('booster', 'JJR'), ('charger', 'NN'), ('is', 'VBZ'), ('fake', 'JJ'), (',', ','), ('it', 'PRP'), ('takes', 'VBZ'), ('at', 'IN'), ('least', 'JJS'), ('4', 'CD'), ('to', 'TO'), ('5', 'CD'), ('hours', 'NNS'), ('to', 'TO'), ('be', 'VB'), ('fully', 'RB'), ('charged.do', 'VBP'), (\"n't\", 'RB'), ('know', 'VB'), ('how', 'WRB'), ('lenovo', 'JJ'), ('will', 'MD'), ('survive', 'VB'), ('by', 'IN'), ('making', 'VBG'), ('full', 'JJ'), ('of', 'IN'), ('us.please', 'JJ'), ('don', 'NN'), (';', ':'), ('t', 'CC'), ('go', 'VB'), ('for', 'IN'), ('this', 'DT'), ('else', 'JJ'), ('you', 'PRP'), ('will', 'MD'), ('regret', 'VB'), ('like', 'IN'), ('me', 'PRP'), ('.', '.')], [('when', 'WRB'), ('i', 'NN'), ('will', 'MD'), ('get', 'VB'), ('my', 'PRP$'), ('10', 'CD'), ('%', 'NN'), ('cash', 'NN'), ('back', 'RB'), ('....', 'VBZ'), ('its', 'PRP$'), ('already', 'RB'), ('15', 'CD'), ('january', 'JJ'), ('..', 'NN')], [('the', 'DT'), ('worst', 'JJS'), ('phone', 'NN'), ('everthey', 'NN'), ('have', 'VBP'), ('changed', 'VBN'), ('the', 'DT'), ('last', 'JJ'), ('phone', 'NN'), ('but', 'CC'), ('the', 'DT'), ('problem', 'NN'), ('is', 'VBZ'), ('still', 'RB'), ('same', 'JJ'), ('and', 'CC'), ('the', 'DT'), ('amazon', 'NN'), ('is', 'VBZ'), ('not', 'RB'), ('returning', 'VBG'), ('the', 'DT'), ('phone', 'NN'), ('.highly', 'RB'), ('disappointing', 'JJ'), ('of', 'IN'), ('amazon', 'NN')], [('only', 'RB'), ('i', 'JJ'), (\"'m\", 'VBP'), ('telling', 'VBG'), ('do', 'VBP'), (\"n't\", 'RB'), ('buyi', 'VB'), (\"'m\", 'VBP'), ('totally', 'RB'), ('disappointedpoor', 'JJ'), ('batterypoor', 'JJ'), ('camerawaste', 'NN'), ('of', 'IN'), ('money', 'NN')], [('phone', 'NN'), ('is', 'VBZ'), ('awesome', 'JJ'), ('.', '.'), ('but', 'CC'), ('while', 'IN'), ('charging', 'VBG'), (',', ','), ('it', 'PRP'), ('heats', 'VBZ'), ('up', 'RP'), ('allot', 'NN'), ('..', 'NNP'), ('really', 'RB'), ('a', 'DT'), ('genuine', 'JJ'), ('reason', 'NN'), ('to', 'TO'), ('hate', 'VB'), ('lenovo', 'JJ'), ('k8', 'NNS'), ('note', 'VBP')]]\n"
     ]
    }
   ],
   "source": [
    "#POS Tag\n",
    "\n",
    "pos_tagged_data = [nltk.pos_tag(reviews) for reviews in tokenized_data]\n",
    "print(pos_tagged_data[:5])"
   ]
  },
  {
   "cell_type": "code",
   "execution_count": 32,
   "id": "eff3817b-d814-41d0-ae5e-a5288e7a2c75",
   "metadata": {},
   "outputs": [
    {
     "name": "stdout",
     "output_type": "stream",
     "text": [
      "[['mobile', 'i', 'battery', 'hell', 'backup', 'hours', 'uses', 'idle', 'discharged.this', 'lie', 'amazon', 'lenove', 'battery', 'charger', 'hours', 'don'], ['i', '%', 'cash', '..'], ['phone', 'everthey', 'phone', 'problem', 'amazon', 'phone', 'amazon'], ['camerawaste', 'money'], ['phone', 'allot', '..', 'reason', 'k8']]\n"
     ]
    }
   ],
   "source": [
    "#Loop over each sentence and within each sentence loop over each word,tag combination and select word if tag's first character is N\n",
    "data_nouns = [[word for (word,tag) in sent if tag[0] == 'N'] for sent in pos_tagged_data]\n",
    "print(data_nouns[:5])"
   ]
  },
  {
   "cell_type": "code",
   "execution_count": 33,
   "id": "94ceeaec-1ea8-480d-977a-7ba8905b7085",
   "metadata": {},
   "outputs": [
    {
     "name": "stdout",
     "output_type": "stream",
     "text": [
      "['mobile i battery hell backup hours uses idle discharged.this lie amazon lenove battery charger hours don', 'i % cash ..', 'phone everthey phone problem amazon phone amazon', 'camerawaste money', 'phone allot .. reason k8']\n"
     ]
    }
   ],
   "source": [
    "data_nouns = [' '.join(word) for word in data_nouns]\n",
    "print(data_nouns[:5])"
   ]
  },
  {
   "cell_type": "code",
   "execution_count": 34,
   "id": "d4fb1be7-3757-493b-b8bc-d523e7a3d6ba",
   "metadata": {},
   "outputs": [
    {
     "data": {
      "text/plain": [
       "7955"
      ]
     },
     "execution_count": 34,
     "metadata": {},
     "output_type": "execute_result"
    }
   ],
   "source": [
    "len(data_nouns)"
   ]
  },
  {
   "cell_type": "code",
   "execution_count": 35,
   "id": "73636eda-e490-43f8-87b6-5df2b16484f7",
   "metadata": {},
   "outputs": [],
   "source": [
    "from nltk.corpus import stopwords\n",
    "from nltk.stem.wordnet import WordNetLemmatizer\n",
    "import string\n",
    "\n",
    "stop_words = stopwords.words('english')\n",
    "punctuations = set(string.punctuation)\n",
    "\n",
    "lemma = WordNetLemmatizer()"
   ]
  },
  {
   "cell_type": "code",
   "execution_count": 36,
   "id": "3e8530e6-ae8d-4dcf-bc1a-bbfdb3b8bdc0",
   "metadata": {},
   "outputs": [
    {
     "name": "stdout",
     "output_type": "stream",
     "text": [
      "['i', 'me', 'my', 'myself', 'we']\n"
     ]
    }
   ],
   "source": [
    "print(stop_words[:5])"
   ]
  },
  {
   "cell_type": "code",
   "execution_count": 38,
   "id": "04ed4cc8-7d9c-4880-b5cb-9f119b766186",
   "metadata": {},
   "outputs": [
    {
     "name": "stdout",
     "output_type": "stream",
     "text": [
      "{'/', ';', '*', '{', \"'\", '|', '^', '>', '$', '-', '@', '%', '\\\\', '<', '=', ',', '!', '[', ':', '}', '\"', ']', '?', '+', '.', '~', '&', '`', '_', '#', '(', ')'}\n"
     ]
    }
   ],
   "source": [
    "print(punctuations)"
   ]
  },
  {
   "cell_type": "code",
   "execution_count": 52,
   "id": "987397bd-8936-4240-9ffd-6bba1cad0437",
   "metadata": {},
   "outputs": [],
   "source": [
    "def clean_string(doc):\n",
    "    clean_data = \" \".join([words for words in doc.lower().split() if words not in stop_words])\n",
    "    clean_data = \"\".join([characters for characters in clean_data if characters not in punctuations])\n",
    "    clean_data = \" \".join(lemma.lemmatize(word) for word in clean_data.split() if word.isalpha())\n",
    "    return clean_data"
   ]
  },
  {
   "cell_type": "code",
   "execution_count": 62,
   "id": "fec719bd-07d5-4ec2-8894-28b101a3d3f9",
   "metadata": {},
   "outputs": [
    {
     "name": "stdout",
     "output_type": "stream",
     "text": [
      "[['mobile', 'battery', 'hell', 'backup', 'hour', 'us', 'idle', 'dischargedthis', 'lie', 'amazon', 'lenove', 'battery', 'charger', 'hour'], ['cash'], ['phone', 'everthey', 'phone', 'problem', 'amazon', 'phone', 'amazon'], ['camerawaste', 'money'], ['phone', 'allot', 'reason']]\n"
     ]
    }
   ],
   "source": [
    "clean_data = [clean_string(sentences).split() for sentences in data_nouns]\n",
    "print(clean_data[:5])"
   ]
  },
  {
   "cell_type": "code",
   "execution_count": 65,
   "id": "495edf7a-bef8-4284-99a5-ecdc212f99d2",
   "metadata": {},
   "outputs": [
    {
     "name": "stdout",
     "output_type": "stream",
     "text": [
      "['mobile', 'battery', 'hell', 'backup', 'hour', 'us', 'idle', 'dischargedthis', 'lie', 'amazon', 'lenove', 'battery', 'charger', 'hour', 'cash', 'phone', 'everthey', 'phone', 'problem', 'amazon', 'phone', 'amazon', 'camerawaste', 'money', 'phone', 'allot', 'reason', 'problem', 'phone', 'hanging', 'problem', 'note', 'station', 'ahmedabad', 'year', 'phone', 'lenovo', 'lot', 'glitch', 'thing', 'option', 'phone', 'charger', 'damage', 'month', 'item', 'battery', 'life', 'battery', 'problem']\n"
     ]
    }
   ],
   "source": [
    "clean_data_flattened = [word for sent in clean_data for word in sent]\n",
    "print(clean_data_flattened[:50])"
   ]
  },
  {
   "cell_type": "code",
   "execution_count": 59,
   "id": "78b8ee7f-dc78-4195-a461-2d4339bcb502",
   "metadata": {},
   "outputs": [],
   "source": [
    "#Create topic model using LDA\n",
    "\n",
    "from gensim import corpora\n",
    "from gensim.utils import simple_preprocess\n",
    "from gensim.models import CoherenceModel, ldamodel"
   ]
  },
  {
   "cell_type": "code",
   "execution_count": 63,
   "id": "a88acc09-c76e-4df3-8a98-9f6fd72b2114",
   "metadata": {},
   "outputs": [
    {
     "name": "stdout",
     "output_type": "stream",
     "text": [
      "Dictionary<7196 unique tokens: ['amazon', 'backup', 'battery', 'charger', 'dischargedthis']...>\n"
     ]
    }
   ],
   "source": [
    "#Create dictionary\n",
    "\n",
    "dictionary = corpora.Dictionary(clean_data)\n",
    "print(dictionary)"
   ]
  },
  {
   "cell_type": "code",
   "execution_count": 66,
   "id": "30810a1c-58d9-4d15-8712-5d2345e9c552",
   "metadata": {},
   "outputs": [],
   "source": [
    "doc_term_matrix = [dictionary.doc2bow(doc) for doc in clean_data]"
   ]
  },
  {
   "cell_type": "code",
   "execution_count": 68,
   "id": "5fcb738f-256d-4ff5-9018-cb7f16d0358d",
   "metadata": {},
   "outputs": [],
   "source": [
    "#Build LDA model\n",
    "\n",
    "lda_model = ldamodel.LdaModel(corpus=doc_term_matrix,\n",
    "                              id2word=dictionary,\n",
    "                              num_topics = 12,\n",
    "                              random_state = 50,\n",
    "                              passes = 10,\n",
    "                              per_word_topics = True)"
   ]
  },
  {
   "cell_type": "code",
   "execution_count": 70,
   "id": "ef39348f-fb9f-4511-958f-ed2bfd42f062",
   "metadata": {},
   "outputs": [
    {
     "name": "stdout",
     "output_type": "stream",
     "text": [
      "TOPIC : 0 \n",
      "Words :0.204*\"battery\" + 0.076*\"issue\" + 0.075*\"phone\" + 0.054*\"problem\" + 0.047*\"backup\" + 0.047*\"camera\" + 0.044*\"heating\" + 0.036*\"hour\" + 0.031*\"performance\" + 0.024*\"update\"\n",
      "\n",
      "\n",
      "TOPIC : 1 \n",
      "Words :0.073*\"service\" + 0.040*\"hai\" + 0.036*\"phone\" + 0.033*\"center\" + 0.031*\"h\" + 0.020*\"centre\" + 0.018*\"warranty\" + 0.014*\"problem\" + 0.013*\"month\" + 0.013*\"ho\"\n",
      "\n",
      "\n",
      "TOPIC : 2 \n",
      "Words :0.144*\"speaker\" + 0.051*\"earphone\" + 0.049*\"volume\" + 0.035*\"sound\" + 0.034*\"box\" + 0.028*\"recorder\" + 0.020*\"voice\" + 0.019*\"hotspot\" + 0.019*\"work\" + 0.018*\"cover\"\n",
      "\n",
      "\n",
      "TOPIC : 3 \n",
      "Words :0.091*\"phone\" + 0.090*\"camera\" + 0.061*\"battery\" + 0.027*\"processor\" + 0.026*\"life\" + 0.024*\"quality\" + 0.023*\"performance\" + 0.017*\"ram\" + 0.016*\"day\" + 0.014*\"thing\"\n",
      "\n",
      "\n",
      "TOPIC : 4 \n",
      "Words :0.139*\"note\" + 0.059*\"device\" + 0.050*\"lenovo\" + 0.039*\"feature\" + 0.032*\"phone\" + 0.023*\"option\" + 0.022*\"screen\" + 0.019*\"cast\" + 0.017*\"system\" + 0.012*\"software\"\n",
      "\n",
      "\n",
      "TOPIC : 5 \n",
      "Words :0.218*\"phone\" + 0.045*\"issue\" + 0.044*\"problem\" + 0.039*\"network\" + 0.032*\"time\" + 0.021*\"call\" + 0.019*\"day\" + 0.017*\"month\" + 0.015*\"sim\" + 0.011*\"jio\"\n",
      "\n",
      "\n",
      "TOPIC : 6 \n",
      "Words :0.123*\"mobile\" + 0.111*\"charger\" + 0.055*\"charging\" + 0.055*\"turbo\" + 0.047*\"handset\" + 0.046*\"hr\" + 0.039*\"charge\" + 0.032*\"hour\" + 0.029*\"battery\" + 0.024*\"problem\"\n",
      "\n",
      "\n",
      "TOPIC : 7 \n",
      "Words :0.095*\"mode\" + 0.086*\"camera\" + 0.044*\"depth\" + 0.030*\"notification\" + 0.027*\"light\" + 0.026*\"key\" + 0.020*\"effect\" + 0.019*\"button\" + 0.016*\"con\" + 0.015*\"side\"\n",
      "\n",
      "\n",
      "TOPIC : 8 \n",
      "Words :0.042*\"call\" + 0.040*\"app\" + 0.031*\"music\" + 0.030*\"gallery\" + 0.030*\"video\" + 0.027*\"application\" + 0.027*\"mobile\" + 0.025*\"option\" + 0.022*\"photo\" + 0.020*\"recording\"\n",
      "\n",
      "\n",
      "TOPIC : 9 \n",
      "Words :0.168*\"camera\" + 0.155*\"quality\" + 0.051*\"phone\" + 0.038*\"display\" + 0.034*\"glass\" + 0.023*\"mobile\" + 0.020*\"screen\" + 0.020*\"picture\" + 0.018*\"feature\" + 0.018*\"gorilla\"\n",
      "\n",
      "\n",
      "TOPIC : 10 \n",
      "Words :0.129*\"price\" + 0.095*\"phone\" + 0.052*\"range\" + 0.024*\"feature\" + 0.022*\"camera\" + 0.017*\"slot\" + 0.016*\"sim\" + 0.016*\"card\" + 0.016*\"review\" + 0.014*\"mobile\"\n",
      "\n",
      "\n",
      "TOPIC : 11 \n",
      "Words :0.186*\"product\" + 0.056*\"amazon\" + 0.029*\"money\" + 0.027*\"phone\" + 0.025*\"mobile\" + 0.024*\"lenovo\" + 0.024*\"day\" + 0.022*\"delivery\" + 0.021*\"waste\" + 0.017*\"return\"\n",
      "\n",
      "\n"
     ]
    }
   ],
   "source": [
    "for idx, topic in lda_model.print_topics(-1):\n",
    "    print('TOPIC : {} \\nWords :{}'.format(idx, topic))\n",
    "    print('\\n')"
   ]
  },
  {
   "cell_type": "code",
   "execution_count": 71,
   "id": "816ffcd5-d5e5-41f4-8fd9-d3db6059ff77",
   "metadata": {},
   "outputs": [
    {
     "name": "stdout",
     "output_type": "stream",
     "text": [
      "Perplexity :  -7.188721800117062\n"
     ]
    }
   ],
   "source": [
    "#Compute Perplexity. Lower the perplexity the better it is\n",
    "\n",
    "print('Perplexity : ', lda_model.log_perplexity(doc_term_matrix))"
   ]
  },
  {
   "cell_type": "code",
   "execution_count": null,
   "id": "eae6bfbd-ef1c-48e0-81be-2f8841136ddf",
   "metadata": {},
   "outputs": [],
   "source": [
    "#Compute Coherence Score. How interpretable the topics are to humans\n",
    "coherence_lda_model = CoherenceModel(model = lda_model, texts = clean_data, dictionary=dictionary, coherence='c_v')\n",
    "coherence_lda =coherence_lda_model.get_coherence()\n",
    "print('Coherence Score : {}'.format(coherence_lda))"
   ]
  },
  {
   "cell_type": "code",
   "execution_count": null,
   "id": "5e9161e2-8bd2-42e3-9920-faec3bc55042",
   "metadata": {},
   "outputs": [],
   "source": []
  }
 ],
 "metadata": {
  "kernelspec": {
   "display_name": "Python 3 [3.10]",
   "language": "python",
   "name": "python3"
  },
  "language_info": {
   "codemirror_mode": {
    "name": "ipython",
    "version": 3
   },
   "file_extension": ".py",
   "mimetype": "text/x-python",
   "name": "python",
   "nbconvert_exporter": "python",
   "pygments_lexer": "ipython3",
   "version": "3.10.2"
  }
 },
 "nbformat": 4,
 "nbformat_minor": 5
}
