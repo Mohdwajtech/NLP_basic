{
 "cells": [
  {
   "cell_type": "code",
   "execution_count": 1,
   "id": "8654ce51-a6ea-4cc6-86ba-16ddb12c5c4a",
   "metadata": {},
   "outputs": [
    {
     "name": "stderr",
     "output_type": "stream",
     "text": [
      "/usr/local/lib/python3.10/site-packages/torch/cuda/__init__.py:617: UserWarning: Can't initialize NVML\n",
      "  warnings.warn(\"Can't initialize NVML\")\n",
      "/usr/local/lib/python3.10/site-packages/thinc/compat.py:36: UserWarning: 'has_mps' is deprecated, please use 'torch.backends.mps.is_built()'\n",
      "  hasattr(torch, \"has_mps\")\n",
      "/usr/local/lib/python3.10/site-packages/thinc/compat.py:37: UserWarning: 'has_mps' is deprecated, please use 'torch.backends.mps.is_built()'\n",
      "  and torch.has_mps  # type: ignore[attr-defined]\n",
      "2023-11-26 15:38:50.363325: I tensorflow/core/util/port.cc:110] oneDNN custom operations are on. You may see slightly different numerical results due to floating-point round-off errors from different computation orders. To turn them off, set the environment variable `TF_ENABLE_ONEDNN_OPTS=0`.\n",
      "2023-11-26 15:38:50.401137: I tensorflow/core/platform/cpu_feature_guard.cc:182] This TensorFlow binary is optimized to use available CPU instructions in performance-critical operations.\n",
      "To enable the following instructions: AVX2 AVX512F AVX512_VNNI FMA, in other operations, rebuild TensorFlow with the appropriate compiler flags.\n"
     ]
    },
    {
     "name": "stdout",
     "output_type": "stream",
     "text": [
      "VOC-NOTICE: GPU memory for this assignment is capped at 1024MiB\n"
     ]
    },
    {
     "name": "stderr",
     "output_type": "stream",
     "text": [
      "2023-11-26 15:38:52.469541: E tensorflow/compiler/xla/stream_executor/cuda/cuda_driver.cc:268] failed call to cuInit: CUDA_ERROR_NO_DEVICE: no CUDA-capable device is detected\n"
     ]
    }
   ],
   "source": [
    "import spacy\n",
    "import operator"
   ]
  },
  {
   "cell_type": "code",
   "execution_count": 2,
   "id": "0ffbab70-6f12-405c-9ef2-27523e0b195d",
   "metadata": {},
   "outputs": [],
   "source": [
    "nlp = spacy.load('en_core_web_sm')"
   ]
  },
  {
   "cell_type": "code",
   "execution_count": 3,
   "id": "3f86df67-d38f-48ee-9743-f5b82e75d93e",
   "metadata": {},
   "outputs": [
    {
     "data": {
      "text/plain": [
       "'On the first day of vertical drilling on top of the partially-collapsed Silkyara-Barkot tunnel in Uttarkashi, almost 20 metres has been covered of the with 86 metres of digging required to reach the 41 workers who have been trapped for two weeks now.  A unit of Madras sappers from the Corps of Engineers of the Indian army also reached the tunnel site Sunday morning to assist the rescue operations. Six plans are being deployed to rescue the trapped workers, with the best solution being horizontal drilling, news agency PTI reported the National Disaster Management Authority (NDMA) as saying.'"
      ]
     },
     "execution_count": 3,
     "metadata": {},
     "output_type": "execute_result"
    }
   ],
   "source": [
    "extract1 = 'On the first day of vertical drilling on top of the partially-collapsed Silkyara-Barkot tunnel in Uttarkashi, almost 20 metres has been covered of the with 86 metres of digging required to reach the 41 workers who have been trapped for two weeks now.  A unit of Madras sappers from the Corps of Engineers of the Indian army also reached the tunnel site Sunday morning to assist the rescue operations. Six plans are being deployed to rescue the trapped workers, with the best solution being horizontal drilling, news agency PTI reported the National Disaster Management Authority (NDMA) as saying.'\n",
    "extract1"
   ]
  },
  {
   "cell_type": "code",
   "execution_count": 4,
   "id": "2f349da9-fd18-4cd8-b184-c725396028d4",
   "metadata": {},
   "outputs": [
    {
     "data": {
      "text/plain": [
       "'Now, the third batch of exchange is scheduled to take place across Rafah crossing later on Sunday. At least one American citizen is likely to be freed on Sunday as part of a third day of hostage releases from Gaza, said the US national security adviser.'"
      ]
     },
     "execution_count": 4,
     "metadata": {},
     "output_type": "execute_result"
    }
   ],
   "source": [
    "extract2 = 'Now, the third batch of exchange is scheduled to take place across Rafah crossing later on Sunday. At least one American citizen is likely to be freed on Sunday as part of a third day of hostage releases from Gaza, said the US national security adviser.'\n",
    "extract2"
   ]
  },
  {
   "cell_type": "code",
   "execution_count": 5,
   "id": "9e713e99-ef26-4ba1-8f51-1dbe7657a0cc",
   "metadata": {},
   "outputs": [
    {
     "data": {
      "text/plain": [
       "'The Ministry of Investment, in cooperation with the Ministry of Foreign Affairs, has expanded the category of people who could benefit from the instant e-visa to include countries listed in the Ministry of Investment’s ‘Invest Saudi’ platform, and individuals who have a valid tourist or commercial visa from the US, the UK or any Schengen country and who accessed at least once the countries where the visa is valid.'"
      ]
     },
     "execution_count": 5,
     "metadata": {},
     "output_type": "execute_result"
    }
   ],
   "source": [
    "extract3 = 'The Ministry of Investment, in cooperation with the Ministry of Foreign Affairs, has expanded the category of people who could benefit from the instant e-visa to include countries listed in the Ministry of Investment’s ‘Invest Saudi’ platform, and individuals who have a valid tourist or commercial visa from the US, the UK or any Schengen country and who accessed at least once the countries where the visa is valid.'\n",
    "extract3"
   ]
  },
  {
   "cell_type": "code",
   "execution_count": 6,
   "id": "68137284-0e6f-42ce-89d3-806aefffd93d",
   "metadata": {},
   "outputs": [
    {
     "data": {
      "text/plain": [
       "'The home side were good value for their opener as Lopez unleashed a fine strike from long range after the Blaugrana failed to clear a Rayo set piece. Barca offered more attacking thrust in the second half, though, as Ferran Torres put a good chance right at the goalkeeper, Pedri nodded one narrowly over the bar and Raphinha rattled the post after coming on.'"
      ]
     },
     "execution_count": 6,
     "metadata": {},
     "output_type": "execute_result"
    }
   ],
   "source": [
    "extract4 = 'The home side were good value for their opener as Lopez unleashed a fine strike from long range after the Blaugrana failed to clear a Rayo set piece. Barca offered more attacking thrust in the second half, though, as Ferran Torres put a good chance right at the goalkeeper, Pedri nodded one narrowly over the bar and Raphinha rattled the post after coming on.'\n",
    "extract4"
   ]
  },
  {
   "cell_type": "code",
   "execution_count": 7,
   "id": "c0da814a-d24f-4661-9f06-b4a5a34532eb",
   "metadata": {},
   "outputs": [],
   "source": [
    "doc1 = nlp(extract1)"
   ]
  },
  {
   "cell_type": "code",
   "execution_count": 8,
   "id": "68902e1c-8c2e-471b-8159-d5f4180a4a9a",
   "metadata": {},
   "outputs": [],
   "source": [
    "doc2 = nlp(extract2)\n",
    "doc3 = nlp(extract3)\n",
    "doc4 = nlp(extract4)"
   ]
  },
  {
   "cell_type": "code",
   "execution_count": 28,
   "id": "e6747799-b8aa-4ac4-949b-ef75f301c992",
   "metadata": {},
   "outputs": [
    {
     "name": "stderr",
     "output_type": "stream",
     "text": [
      "/tmp/ipykernel_185/1517817482.py:4: UserWarning: [W007] The model you're using has no word vectors loaded, so the result of the Doc.similarity method will be based on the tagger, parser and NER, which may not give useful similarity judgements. This may happen if you're using one of the small models, e.g. `en_core_web_sm`, which don't ship with word vectors and only use context-sensitive tensors. You can always add your own word vectors, or use one of the larger models instead if available.\n",
      "  similarities.append((i, query.similarity(i)))\n"
     ]
    },
    {
     "data": {
      "text/plain": [
       "[(The home side were good value for their opener as Lopez unleashed a fine strike from long range after the Blaugrana failed to clear a Rayo set piece. Barca offered more attacking thrust in the second half, though, as Ferran Torres put a good chance right at the goalkeeper, Pedri nodded one narrowly over the bar and Raphinha rattled the post after coming on.,\n",
       "  0.5478641135148253),\n",
       " (The Ministry of Investment, in cooperation with the Ministry of Foreign Affairs, has expanded the category of people who could benefit from the instant e-visa to include countries listed in the Ministry of Investment’s ‘Invest Saudi’ platform, and individuals who have a valid tourist or commercial visa from the US, the UK or any Schengen country and who accessed at least once the countries where the visa is valid.,\n",
       "  0.5379088482352372)]"
      ]
     },
     "execution_count": 28,
     "metadata": {},
     "output_type": "execute_result"
    }
   ],
   "source": [
    "query  = nlp('What is the news on soccer match of barcelona?')\n",
    "similarities = []\n",
    "for i in [doc1, doc2, doc3, doc4]:\n",
    "    similarities.append((i, query.similarity(i)))\n",
    "\n",
    "similarities.sort(key = operator.itemgetter(1), reverse = True)\n",
    "similarities[:2]"
   ]
  },
  {
   "cell_type": "markdown",
   "id": "6c47f11d-de13-4079-926f-07d91fcae3bc",
   "metadata": {},
   "source": [
    "You can download a larger model for better results\n",
    "\n",
    "!python3 -m spacy download en_core_web_md\n",
    "\n",
    "nlp = spacy.load('en_core_web_md')"
   ]
  },
  {
   "cell_type": "code",
   "execution_count": null,
   "id": "029049d2-6815-48c8-9b52-a40764160f37",
   "metadata": {},
   "outputs": [],
   "source": []
  }
 ],
 "metadata": {
  "kernelspec": {
   "display_name": "Python 3 [3.10]",
   "language": "python",
   "name": "python3"
  },
  "language_info": {
   "codemirror_mode": {
    "name": "ipython",
    "version": 3
   },
   "file_extension": ".py",
   "mimetype": "text/x-python",
   "name": "python",
   "nbconvert_exporter": "python",
   "pygments_lexer": "ipython3",
   "version": "3.10.2"
  }
 },
 "nbformat": 4,
 "nbformat_minor": 5
}
